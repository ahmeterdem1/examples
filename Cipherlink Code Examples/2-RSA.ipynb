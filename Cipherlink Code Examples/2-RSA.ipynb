{
 "cells": [
  {
   "cell_type": "code",
   "execution_count": 1,
   "id": "initial_id",
   "metadata": {
    "collapsed": true,
    "ExecuteTime": {
     "end_time": "2024-01-12T22:01:40.410744Z",
     "start_time": "2024-01-12T22:01:40.406973Z"
    }
   },
   "outputs": [],
   "source": [
    "from cipherlink import *\n",
    "# VERSION 1.0.1"
   ]
  },
  {
   "cell_type": "markdown",
   "source": [
    "# RSA\n",
    "\n",
    "The single other thing that this library implements is the RSA. Its implementation is slow. This is due to unavoidable use of linear programming instead of parallel programming. Using pypy as the compiler can speed up the operations up to 20 times. \n",
    "\n",
    "Encryption does not suffer from this slowness. It takes mere seconds to encrypt millions of characters. Decryption is, however, slow. Key generation is even slower. Finding very large primes is a very hard task.\n",
    "\n",
    "RSA algorithms start from some more basic operations like finding the greatest common divisor of 2 numbers. Both GCD and extended GCD is implemented. Extended GCD returns the tuple of GCD, S coefficient, T coefficient."
   ],
   "metadata": {
    "collapsed": false
   },
   "id": "3cbe3ec9561ad809"
  },
  {
   "cell_type": "code",
   "execution_count": 10,
   "outputs": [
    {
     "name": "stdout",
     "output_type": "stream",
     "text": [
      "Greatest common divisor of 52320 and 19025 is: 5\n",
      "GCS, S, T coefficients: (5, -11, 4)\n"
     ]
    }
   ],
   "source": [
    "a, b = secrets.randbits(16), secrets.randbits(16)\n",
    "print(f\"Greatest common divisor of {a} and {b} is: {cipherlink.gcd(a, b)}\")\n",
    "print(f\"GCS, S, T coefficients: {cipherlink.gcdExtended(a, b)}\")"
   ],
   "metadata": {
    "collapsed": false,
    "ExecuteTime": {
     "end_time": "2024-01-12T22:03:14.004209Z",
     "start_time": "2024-01-12T22:03:13.999525Z"
    }
   },
   "id": "3f3c13f5535b2e7b"
  },
  {
   "cell_type": "markdown",
   "source": [
    "These will help finding keys for RSA. Key generation can be done via _cipherlink.keygenRsa()_. This function takes 3 arguments. The first 2 are primes that you can give to generate keys upon. If left blank, function finds its own primes in the range 3000-5000. The last argument is \"smallest\". If set true, the smallest possible e value is chosen. The default is True. The function returns a tuple of public key and private key in order. Don't forget that public key is also a pair of numbers itself; n and e."
   ],
   "metadata": {
    "collapsed": false
   },
   "id": "813c32e9994e1f15"
  },
  {
   "cell_type": "code",
   "execution_count": 11,
   "outputs": [
    {
     "name": "stdout",
     "output_type": "stream",
     "text": [
      "The public key is: (19437877, 5)\n",
      "The private key is: 15543245\n"
     ]
    }
   ],
   "source": [
    "public, private = cipherlink.keygenRsa()\n",
    "print(f\"The public key is: {public}\")\n",
    "print(f\"The private key is: {private}\")"
   ],
   "metadata": {
    "collapsed": false,
    "ExecuteTime": {
     "end_time": "2024-01-12T22:07:39.757091Z",
     "start_time": "2024-01-12T22:07:38.749413Z"
    }
   },
   "id": "31557afc6d0c94e0"
  },
  {
   "cell_type": "markdown",
   "source": [
    "Ciphering can start from here. There are 4 ways of ciphering. _cipherlink.encryptorRsa_ and _cipherlink.decryptorRsa_ are toys that cipher the characters one by one. Ciphered version of a character will be the same everywhere, therefore this is just a mapping of the characters into some numbers. It can be demapped by just using theirr frequencies. _cipherlink.encryptorRsa2_ and _cipherlink.decryptorRsa2_ are usable versions of those. They group the characters by 2, use their concatenated ascii values as elements. Because of this grouping, every 2 character combination has a different mapping than the other. Now it is much harder to demap the result. Grouping is not carried to higher numbers like 5 or 10 because these functions are unstable. Floating point errors occur around %5 of the time.\n",
    "\n",
    "Encryptor functions take 2 arguments. Public key and the message as a string.\n",
    "\n",
    "Decryptor functions take 3 arguments. Public key, private key and the encrypted message.\n",
    "\n",
    "It is recommended to put the message in r\"\" string format since \\ signs etc. create confusion for the encryptor."
   ],
   "metadata": {
    "collapsed": false
   },
   "id": "9a577d5f15767d6a"
  },
  {
   "cell_type": "code",
   "execution_count": 12,
   "outputs": [
    {
     "name": "stdout",
     "output_type": "stream",
     "text": [
      "The message is 'Hello World'\n",
      "Encrypted message: (1133679, 5696159, 7918128, 9873221, 782633, 8931222)\n",
      "Decrypted message: Hello World\n"
     ]
    }
   ],
   "source": [
    "print(f\"The message is 'Hello World'\")\n",
    "enc = cipherlink.encryptorRsa2(public, 'Hello World')\n",
    "print(f\"Encrypted message: {enc}\")\n",
    "print(f\"Decrypted message: {cipherlink.decryptorRsa2(public, private, enc)}\")"
   ],
   "metadata": {
    "collapsed": false,
    "ExecuteTime": {
     "end_time": "2024-01-12T22:15:57.219011Z",
     "start_time": "2024-01-12T22:15:53.606413Z"
    }
   },
   "id": "58ed0df1f1a15ca1"
  },
  {
   "cell_type": "code",
   "execution_count": null,
   "outputs": [],
   "source": [],
   "metadata": {
    "collapsed": false
   },
   "id": "d6411390cf566d31"
  }
 ],
 "metadata": {
  "kernelspec": {
   "display_name": "Python 3",
   "language": "python",
   "name": "python3"
  },
  "language_info": {
   "codemirror_mode": {
    "name": "ipython",
    "version": 2
   },
   "file_extension": ".py",
   "mimetype": "text/x-python",
   "name": "python",
   "nbconvert_exporter": "python",
   "pygments_lexer": "ipython2",
   "version": "2.7.6"
  }
 },
 "nbformat": 4,
 "nbformat_minor": 5
}

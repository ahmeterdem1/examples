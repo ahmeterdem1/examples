{
 "cells": [
  {
   "cell_type": "code",
   "execution_count": 1,
   "id": "initial_id",
   "metadata": {
    "collapsed": true,
    "ExecuteTime": {
     "end_time": "2024-01-12T21:34:22.565322Z",
     "start_time": "2024-01-12T21:34:22.555787Z"
    }
   },
   "outputs": [],
   "source": [
    "from cipherlink import *\n",
    "# VERSION 1.0.1"
   ]
  },
  {
   "cell_type": "markdown",
   "source": [
    "# Cipherlink\n",
    "\n",
    "This is a basic library on cryptography. Basic hashing and ciphering with RSA can be done, with some other helper functions in it. Helper functions are mostly about prime numbers. \n",
    "\n",
    "The library has one general class, _cipherlink_. This is just a collection of methods. There is no object generation. If you try to generate an object of the class, _dir_ of the class is printed."
   ],
   "metadata": {
    "collapsed": false
   },
   "id": "628b74a459465d17"
  },
  {
   "cell_type": "code",
   "execution_count": 2,
   "outputs": [
    {
     "name": "stdout",
     "output_type": "stream",
     "text": [
      "['__class__', '__delattr__', '__dict__', '__dir__', '__doc__', '__eq__', '__format__', '__ge__', '__getattribute__', '__getstate__', '__gt__', '__hash__', '__init__', '__init_subclass__', '__le__', '__lt__', '__module__', '__ne__', '__new__', '__reduce__', '__reduce_ex__', '__repr__', '__setattr__', '__sizeof__', '__str__', '__subclasshook__', '__weakref__', 'decryptorRsa', 'decryptorRsa2', 'encryptorRsa', 'encryptorRsa2', 'gcd', 'gcdExtended', 'hash', 'isPrime', 'keygenRsa', 'primeByOrder', 'primeByRange']\n"
     ]
    }
   ],
   "source": [
    "c = cipherlink()"
   ],
   "metadata": {
    "collapsed": false,
    "ExecuteTime": {
     "end_time": "2024-01-12T21:34:22.566799Z",
     "start_time": "2024-01-12T21:34:22.563527Z"
    }
   },
   "id": "966dacd64c5d06a"
  },
  {
   "cell_type": "markdown",
   "source": [
    "## Primes\n",
    "\n",
    "This library is mostly about prime numbers. There are ways to find them, check if a number is prime, etc. Let's star with the most basic one."
   ],
   "metadata": {
    "collapsed": false
   },
   "id": "319cfefafc9acf10"
  },
  {
   "cell_type": "code",
   "execution_count": 3,
   "outputs": [
    {
     "name": "stdout",
     "output_type": "stream",
     "text": [
      "Is the randomly generated 16-bit integer 23582 a prime? -- False\n"
     ]
    }
   ],
   "source": [
    "a = secrets.randbits(16)\n",
    "print(f\"Is the randomly generated 16-bit integer {a} a prime? -- {cipherlink.isPrime(a)}\")"
   ],
   "metadata": {
    "collapsed": false,
    "ExecuteTime": {
     "end_time": "2024-01-12T21:37:46.329182Z",
     "start_time": "2024-01-12T21:37:46.321624Z"
    }
   },
   "id": "bcdb235cb0d6f7dd"
  },
  {
   "cell_type": "markdown",
   "source": [
    "Checking if a number is prime is done by checking if it is divisible by integer x where x is from 2 to up to the square root of the number. Different algorithms for prime checking is used in different functions. This is chosen to be used here since it is basic, straightforward and light on the RAM.\n",
    "\n",
    "A more complicated and RAM heavy algorithm is used for getting primes in a range. Each number can be represented as multiplications of prime numbers. If we collect primes starting from 2 as we go up, we can only check the divisibility of the next number with the collected primes. We do less divisions but since we have to collect all primes up to the given range, this method is heavy on the RAM."
   ],
   "metadata": {
    "collapsed": false
   },
   "id": "7fa8cd8fa3487bf6"
  },
  {
   "cell_type": "code",
   "execution_count": 4,
   "outputs": [
    {
     "name": "stdout",
     "output_type": "stream",
     "text": [
      "A random prime from the range 1000-2000: 1429\n"
     ]
    }
   ],
   "source": [
    "primes = cipherlink.primeByRange(1000, 2000)\n",
    "selection = primes[secrets.randbits(10) % len(primes)]\n",
    "print(f\"A random prime from the range 1000-2000: {selection}\")"
   ],
   "metadata": {
    "collapsed": false,
    "ExecuteTime": {
     "end_time": "2024-01-12T21:44:33.147562Z",
     "start_time": "2024-01-12T21:44:33.139855Z"
    }
   },
   "id": "50669c32952376b2"
  },
  {
   "cell_type": "markdown",
   "source": [
    "Different from all above, we can get the n-th prime. This again implements the same algorithm as _cipherlink.primeByRange_. The reason for that is, getting high ordered primes is a heavy task on the CPU. We relieve the CPU by giving up RAM space in exchange of time. There is a hardware defined limit of how high you can go since the RAM space is limited. Finding n-th prime means the function needs to generate a list of n-1 integers."
   ],
   "metadata": {
    "collapsed": false
   },
   "id": "1bf511f0fb0b8ca2"
  },
  {
   "cell_type": "code",
   "execution_count": 6,
   "outputs": [
    {
     "name": "stdout",
     "output_type": "stream",
     "text": [
      "10000th prime is: 104729\n"
     ]
    }
   ],
   "source": [
    "print(f\"10000th prime is: {cipherlink.primeByOrder(10000)}\")"
   ],
   "metadata": {
    "collapsed": false,
    "ExecuteTime": {
     "end_time": "2024-01-12T21:48:05.391926Z",
     "start_time": "2024-01-12T21:48:03.723274Z"
    }
   },
   "id": "4405cb2673fefce6"
  },
  {
   "cell_type": "markdown",
   "source": [
    "## Hashing\n",
    "\n",
    "This library also has a function for hashing. This hash is an implementation of md5. The outputs are, differently, 512 bits. Its inner state is always the same. Only strings can be hashed. Outputs are also strings."
   ],
   "metadata": {
    "collapsed": false
   },
   "id": "d018591439b33323"
  },
  {
   "cell_type": "code",
   "execution_count": 7,
   "outputs": [
    {
     "name": "stdout",
     "output_type": "stream",
     "text": [
      "The hash of 123 is: 196102605415948045922091470641921683088\n",
      "The hash of 124 is: 4206207494244344664030724558641832214160\n"
     ]
    }
   ],
   "source": [
    "print(f\"The hash of 123 is: {cipherlink.hash('123')}\")\n",
    "print(f\"The hash of 124 is: {cipherlink.hash('124')}\")"
   ],
   "metadata": {
    "collapsed": false,
    "ExecuteTime": {
     "end_time": "2024-01-12T21:54:06.726242Z",
     "start_time": "2024-01-12T21:54:06.711874Z"
    }
   },
   "id": "9113e866ae642d74"
  },
  {
   "cell_type": "code",
   "execution_count": null,
   "outputs": [],
   "source": [],
   "metadata": {
    "collapsed": false
   },
   "id": "d7a24b6b3ce3a4a6"
  }
 ],
 "metadata": {
  "kernelspec": {
   "display_name": "Python 3",
   "language": "python",
   "name": "python3"
  },
  "language_info": {
   "codemirror_mode": {
    "name": "ipython",
    "version": 2
   },
   "file_extension": ".py",
   "mimetype": "text/x-python",
   "name": "python",
   "nbconvert_exporter": "python",
   "pygments_lexer": "ipython2",
   "version": "2.7.6"
  }
 },
 "nbformat": 4,
 "nbformat_minor": 5
}

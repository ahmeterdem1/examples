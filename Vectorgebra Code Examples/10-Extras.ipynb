{
 "cells": [
  {
   "cell_type": "code",
   "execution_count": 8,
   "id": "initial_id",
   "metadata": {
    "collapsed": true,
    "ExecuteTime": {
     "end_time": "2024-01-06T20:33:17.750381Z",
     "start_time": "2024-01-06T20:33:17.740646Z"
    }
   },
   "outputs": [],
   "source": [
    "from vectorgebra import *\n",
    "# VERSION 2.7.4"
   ]
  },
  {
   "cell_type": "markdown",
   "source": [
    "# More\n",
    "\n",
    "There are some more things to talk about. There are some other members and operations of the library that may be useful to the user or important to know. \n",
    "\n",
    "The first one of those is, vectorgebra has a logger defined in it. This is used by threaded functions to log any detail and problem with their work. The logger object can be obtained by just _vectorgebra.logger_. You may opt to use this logger in your projects with vectorgebra instead of creating other loggers. The logger is defined from Python's built-in _logging_ library."
   ],
   "metadata": {
    "collapsed": false
   },
   "id": "40ff71aadcf05162"
  },
  {
   "cell_type": "code",
   "execution_count": 9,
   "outputs": [
    {
     "name": "stderr",
     "output_type": "stream",
     "text": [
      "2024-01-06 23:33:17,745 root log     CRITICAL THIS IS THE VECTORGEBRA'S LOGGER\n"
     ]
    }
   ],
   "source": [
    "logger.fatal(f\"THIS IS THE VECTORGEBRA'S LOGGER\")"
   ],
   "metadata": {
    "collapsed": false,
    "ExecuteTime": {
     "end_time": "2024-01-06T20:33:17.751663Z",
     "start_time": "2024-01-06T20:33:17.746798Z"
    }
   },
   "id": "f5c794aaf97c4daa"
  },
  {
   "cell_type": "markdown",
   "source": [
    "Vectorgebra also has an empty dictionary vectorgebra.__results in it. This is again used by threaded functions. Each workers results are collected here. You should not disturb this dictionary if you want to use any kind of threaded vectorgebra function.\n",
    "\n",
    "## Exception Classes\n",
    "\n",
    "Vectorgebra has 4 different exceptions defined in it; DimensionError, RangeError, ArgTypeError, ArgumentError. \n",
    "\n",
    "### DimensionError\n",
    "\n",
    "This is raised when any inconsistency with dimensions occur. Initializer takes a single argument which can be 0, 1 or 2. 0 is for when dimensions don't match. 1 is for when dimensions are not in range, e.g. negative. 2 is for when given matrix is not a square but must have been one.\n",
    "\n",
    "### RangeError\n",
    "\n",
    "This is raised when any given argument to any function or method is not in the intended range. The initializer takes a single argument, hint. This argument also exists for ArgTypeError. It must be a string. If given, it is displayed with the error message as a description.\n",
    "\n",
    "### ArgTypeError\n",
    "\n",
    "This is raised when any given argument is not in the intended type. Again, this has the \"hint\" argument.\n",
    "\n",
    "### AmountError\n",
    "\n",
    "This is only raised when given arguments to a function or method are too few or too much. This exception takes no arguments.\n"
   ],
   "metadata": {
    "collapsed": false
   },
   "id": "b3113cde3028b395"
  },
  {
   "cell_type": "code",
   "execution_count": 10,
   "outputs": [
    {
     "ename": "DimensionError",
     "evalue": "Matrix must be a square",
     "output_type": "error",
     "traceback": [
      "\u001B[0;31m---------------------------------------------------------------------------\u001B[0m",
      "\u001B[0;31mDimensionError\u001B[0m                            Traceback (most recent call last)",
      "Cell \u001B[0;32mIn[10], line 1\u001B[0m\n\u001B[0;32m----> 1\u001B[0m \u001B[38;5;28;01mraise\u001B[39;00m DimensionError(\u001B[38;5;241m2\u001B[39m)\n",
      "\u001B[0;31mDimensionError\u001B[0m: Matrix must be a square"
     ]
    }
   ],
   "source": [
    "raise DimensionError(2)"
   ],
   "metadata": {
    "collapsed": false,
    "ExecuteTime": {
     "end_time": "2024-01-06T20:33:17.779057Z",
     "start_time": "2024-01-06T20:33:17.755573Z"
    }
   },
   "id": "24fcd1fd75065444"
  },
  {
   "cell_type": "markdown",
   "source": [
    "## Imports\n",
    "\n",
    "Vectorgebra imports _decimal_, _random_, _threading_ and _logging_. If you were already going to use those with vectorgebra; you don't need to import them, they are already imported with vectorgebra.\n",
    "\n",
    "## What's Next?\n",
    "\n",
    "We believe that vectorgebra being written in Python and also being usable, is a good demonstration of one of the possible ways that numerical methods can go. C++ is faster. Numpy is faster. Jax is even faster. But none is as readable as vectorgebra. The purpose of this library is to be both usable and readable. By this way, we let developers easily implement their own algorithms on top of already existing ones. \n",
    "\n",
    "The readability of Python will let this project to be understood by every developer, to be seen from almost all perspectives. And Python is getting faster each day. Combination of those 2 factors will make this library a playground for developers to test different methods, to understand others methods faster.\n",
    "\n",
    "The readability of Python creates a big potential for this project to be a great tool of education. Nobody will have to suffer the complicated nature of C++ to understand sophisticated numerical methods algorithms. Also, nobody will have to look at pseudocode that cannot and is not intended to really work to try to understand these sophisticated algorithms. The code here is both understandable easily, and works. To see the _understandable code_ work on real, takes the education to a different reality.\n",
    "\n",
    "The slowness of Python here, is compensated by the speed of being understood. "
   ],
   "metadata": {
    "collapsed": false
   },
   "id": "4bdcc0c4699abd13"
  },
  {
   "cell_type": "code",
   "execution_count": null,
   "outputs": [],
   "source": [],
   "metadata": {
    "collapsed": false,
    "ExecuteTime": {
     "start_time": "2024-01-06T20:33:17.764550Z"
    }
   },
   "id": "7b2e9b755e2837e0"
  }
 ],
 "metadata": {
  "kernelspec": {
   "display_name": "Python 3",
   "language": "python",
   "name": "python3"
  },
  "language_info": {
   "codemirror_mode": {
    "name": "ipython",
    "version": 2
   },
   "file_extension": ".py",
   "mimetype": "text/x-python",
   "name": "python",
   "nbconvert_exporter": "python",
   "pygments_lexer": "ipython2",
   "version": "2.7.6"
  }
 },
 "nbformat": 4,
 "nbformat_minor": 5
}

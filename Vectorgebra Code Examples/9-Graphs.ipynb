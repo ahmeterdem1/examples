{
 "cells": [
  {
   "cell_type": "code",
   "execution_count": 12,
   "id": "initial_id",
   "metadata": {
    "collapsed": true,
    "ExecuteTime": {
     "end_time": "2024-01-06T19:42:48.390027Z",
     "start_time": "2024-01-06T19:42:48.361472Z"
    }
   },
   "outputs": [],
   "source": [
    "from vectorgebra import *\n",
    "# VERSION 2.7.4"
   ]
  },
  {
   "cell_type": "markdown",
   "source": [
    "# Graphs\n",
    "\n",
    "Vectorgebra has a class for representing graphs and algorithms on them. This class is still in development but up to now code is ready for any type of use. There is no algorithm implemented yet. Only algorithm like operation would be isomorphism checking.\n",
    "\n",
    "Graphs consist of 3 main parts; edges, vertices, weights. A vectorgebra.Graph can be initialized with giving it its edges and vertices. Weights are optional; if not given, all edges will have 1 as weight.\n",
    "\n",
    "However, there is one more method of initializing graphs. It is done by giving the adjacency matrix. Even though not given, a vertex/edge/weight initialized graph would have its adjacency matrix defined. Same goes for vice versa. Let's see both ways in action."
   ],
   "metadata": {
    "collapsed": false
   },
   "id": "c50cb53fbead36a5"
  },
  {
   "cell_type": "code",
   "execution_count": 13,
   "outputs": [
    {
     "name": "stdout",
     "output_type": "stream",
     "text": [
      "The generated graph:\n",
      "                       a           b LAST_VERTEX\n",
      "           a           1           1           0\n",
      "           b           0           1           0\n",
      " LAST_VERTEX           1           1           1\n",
      "\n"
     ]
    }
   ],
   "source": [
    "g = Graph(vertices=(\"a\", \"b\", \"LAST_VERTEX\"), edges=((\"a\", \"a\"), (\"a\", \"b\"), (\"b\", \"b\"),\n",
    "                                                     (\"b\", \"b\"), (\"LAST_VERTEX\", \"a\"),\n",
    "                                                     (\"LAST_VERTEX\", \"b\"), (\"LAST_VERTEX\", \"LAST_VERTEX\")))\n",
    "print(f\"The generated graph:\\n{g}\\n\")"
   ],
   "metadata": {
    "collapsed": false,
    "ExecuteTime": {
     "end_time": "2024-01-06T19:42:48.390894Z",
     "start_time": "2024-01-06T19:42:48.367258Z"
    }
   },
   "id": "5a30e9c6dc361d0a"
  },
  {
   "cell_type": "markdown",
   "source": [
    "This is generation via giving it its vertices and edges. Both arguments must be iterables. You may give no edges, but vertices must be given. You can name your vertices anything you want, there is no limitation. You may add vertices, edges and weights after the initialization. You can pop too. \n",
    "\n",
    "You can reach your graphs vertices via vectorgebra.Graph.vertices. You can reach your graphs edges via vectorgebra.Graph.edges. You can reach your graphs weights via vectorgebra.Graph.weights. "
   ],
   "metadata": {
    "collapsed": false
   },
   "id": "53ec24f48e030279"
  },
  {
   "cell_type": "code",
   "execution_count": 14,
   "outputs": [
    {
     "name": "stdout",
     "output_type": "stream",
     "text": [
      "Vertices: ['a', 'b', 'LAST_VERTEX']\n",
      "Edges: [['a', 'a'], ['a', 'b'], ['b', 'b'], ['b', 'b'], ['LAST_VERTEX', 'a'], ['LAST_VERTEX', 'b'], ['LAST_VERTEX', 'LAST_VERTEX']]\n",
      "Weights: [1, 1, 1, 1, 1, 1, 1]\n"
     ]
    }
   ],
   "source": [
    "print(f\"Vertices: {g.vertices}\")\n",
    "print(f\"Edges: {g.edges}\")\n",
    "print(f\"Weights: {g.weights}\")"
   ],
   "metadata": {
    "collapsed": false,
    "ExecuteTime": {
     "end_time": "2024-01-06T19:42:48.391067Z",
     "start_time": "2024-01-06T19:42:48.371186Z"
    }
   },
   "id": "f40ccf99243b72ba"
  },
  {
   "cell_type": "markdown",
   "source": [
    "g.weights is a list that has a weight number that is corresponding to the same indexed edge in g.edges list. If you want to change those later, this is important.\n",
    "\n",
    "Initialization via the adjacency matrix is a little bit shorter. Just giving the matrix is enough for a valid initialization, however may be insufficient. If you just give the matrix, vertices are named numerically starting from \"1\". Edges are generated if the related value of the matrix is non zero. Value of the matrix becomes the weight of the related edge."
   ],
   "metadata": {
    "collapsed": false
   },
   "id": "f65ddb4c1f6dd935"
  },
  {
   "cell_type": "code",
   "execution_count": 15,
   "outputs": [
    {
     "name": "stdout",
     "output_type": "stream",
     "text": [
      "The generated graph:\n",
      "   0 1 2\n",
      " 0 1 0 1\n",
      " 1 0 1 0\n",
      " 2 1 0 1\n",
      "\n"
     ]
    }
   ],
   "source": [
    "a = Matrix(Vector(1, 0, 1), \n",
    "           Vector(0, 1, 0), \n",
    "           Vector(1, 0, 1))\n",
    "\n",
    "h = Graph(matrix=a)\n",
    "print(f\"The generated graph:\\n{h}\\n\")"
   ],
   "metadata": {
    "collapsed": false,
    "ExecuteTime": {
     "end_time": "2024-01-06T19:42:48.410738Z",
     "start_time": "2024-01-06T19:42:48.375869Z"
    }
   },
   "id": "ddb3c390cd4a17ab"
  },
  {
   "cell_type": "markdown",
   "source": [
    "We may of course give proper names for the vertices. This overrides the numerical naming system."
   ],
   "metadata": {
    "collapsed": false
   },
   "id": "4730624b061e6f9d"
  },
  {
   "cell_type": "code",
   "execution_count": 16,
   "outputs": [
    {
     "name": "stdout",
     "output_type": "stream",
     "text": [
      "The generated graph:\n",
      "                       a           b LAST_VERTEX\n",
      "           a           1           0           1\n",
      "           b           0           1           0\n",
      " LAST_VERTEX           1           0           1\n",
      "\n"
     ]
    }
   ],
   "source": [
    "j = Graph(matrix=a, vertices=(\"a\", \"b\", \"LAST_VERTEX\"))\n",
    "print(f\"The generated graph:\\n{j}\\n\")"
   ],
   "metadata": {
    "collapsed": false,
    "ExecuteTime": {
     "end_time": "2024-01-06T19:42:48.411186Z",
     "start_time": "2024-01-06T19:42:48.380331Z"
    }
   },
   "id": "326acdc26fec9f47"
  },
  {
   "cell_type": "markdown",
   "source": [
    "We can add and remove edges from a graph."
   ],
   "metadata": {
    "collapsed": false
   },
   "id": "da21258ef355f88d"
  },
  {
   "cell_type": "code",
   "execution_count": 17,
   "outputs": [
    {
     "name": "stdout",
     "output_type": "stream",
     "text": [
      "The generated graph:\n",
      "                       a           b LAST_VERTEX\n",
      "           a           1         3.2           1\n",
      "           b           0           1           0\n",
      " LAST_VERTEX           1           0           1\n",
      "\n",
      "\n",
      "The generated graph:\n",
      "                       a           b LAST_VERTEX\n",
      "           a           0         3.2           1\n",
      "           b           0           1           0\n",
      " LAST_VERTEX           1           0           1\n"
     ]
    }
   ],
   "source": [
    "j.addedge((\"a\", \"b\"), 3.2)\n",
    "print(f\"The generated graph:\\n{j}\\n\")\n",
    "j.popedge([\"a\", \"a\"])  # Be sure that you put in \"list\"s not tuples or anything else.\n",
    "print(f\"The generated graph:\\n{j}\\n\")"
   ],
   "metadata": {
    "collapsed": false,
    "ExecuteTime": {
     "end_time": "2024-01-06T19:42:48.412360Z",
     "start_time": "2024-01-06T19:42:48.384526Z"
    }
   },
   "id": "4636f7679ccf70f2"
  },
  {
   "cell_type": "markdown",
   "source": [
    "We can also add and pop vertices. Newly added vertices will be of course disconnected from the graph body."
   ],
   "metadata": {
    "collapsed": false
   },
   "id": "6d9b0ca353c1bed9"
  },
  {
   "cell_type": "code",
   "execution_count": 18,
   "outputs": [
    {
     "name": "stdout",
     "output_type": "stream",
     "text": [
      "The generated graph:\n",
      "                       b LAST_VERTEX\n",
      "           b           1           0\n",
      " LAST_VERTEX           0           1\n",
      "\n",
      "\n",
      "The generated graph:\n",
      "                       b LAST_VERTEX           k\n",
      "           b           1           0           0\n",
      " LAST_VERTEX           0           1           0\n",
      "           k           0           0           0\n"
     ]
    }
   ],
   "source": [
    "j.popvertex(\"a\")\n",
    "print(f\"The generated graph:\\n{j}\\n\")\n",
    "j.addvertex(\"k\")\n",
    "print(f\"The generated graph:\\n{j}\\n\")"
   ],
   "metadata": {
    "collapsed": false,
    "ExecuteTime": {
     "end_time": "2024-01-06T19:42:48.432462Z",
     "start_time": "2024-01-06T19:42:48.391234Z"
    }
   },
   "id": "8dad7f959944390a"
  },
  {
   "cell_type": "markdown",
   "source": [
    "A vertices degree can be obtained. Means of that may differ from graph to graph as a graph can be directed. While initializing, if \"directed=True\" then the graph is directed. The default is \"False\". If directed, the order of pairs in the vectorgebra.Graph.edges list defines the direction of the edge. This is then used to get in and out degrees of a vertex. For an undirected graph, all mean the same."
   ],
   "metadata": {
    "collapsed": false
   },
   "id": "4b887beff067cf55"
  },
  {
   "cell_type": "code",
   "execution_count": 21,
   "outputs": [
    {
     "name": "stdout",
     "output_type": "stream",
     "text": [
      "The graph:\n",
      "                       a           b LAST_VERTEX\n",
      "           a           1           1           0\n",
      "           b           0           1           0\n",
      " LAST_VERTEX           1           1           1\n",
      "\n",
      "\n",
      "Degree of node a: 3\n",
      "In-degree of node a: 2\n",
      "Out-degree of node a: 2\n"
     ]
    }
   ],
   "source": [
    "g.directed = True\n",
    "print(f\"The graph:\\n{g}\\n\")\n",
    "\n",
    "print(f\"Degree of node a: {g.getdegree('a')}\")\n",
    "print(f\"In-degree of node a: {g.getindegree('a')}\")\n",
    "print(f\"Out-degree of node a: {g.getoutdegree('a')}\")"
   ],
   "metadata": {
    "collapsed": false,
    "ExecuteTime": {
     "end_time": "2024-01-06T19:53:20.099568Z",
     "start_time": "2024-01-06T19:53:20.094985Z"
    }
   },
   "id": "1b53c71c07368465"
  },
  {
   "cell_type": "markdown",
   "source": [
    "We can check if a graph is Euler. We can also check if 2 graphs are isomorphic. Isomorphism counts the amount of n-degree vertices. If for each degree no, the count is the same, then the graphs are isomorphic."
   ],
   "metadata": {
    "collapsed": false
   },
   "id": "ef77057ed4abe49"
  },
  {
   "cell_type": "code",
   "execution_count": 23,
   "outputs": [
    {
     "name": "stdout",
     "output_type": "stream",
     "text": [
      "Is the graph g Euler? -- False\n",
      "Is g and h are isomorphic? -- False\n"
     ]
    }
   ],
   "source": [
    "print(f\"Is the graph g Euler? -- {g.isEuler()}\")\n",
    "print(f\"Is g and h are isomorphic? -- {Graph.isIsomorphic(g, h)}\")"
   ],
   "metadata": {
    "collapsed": false,
    "ExecuteTime": {
     "end_time": "2024-01-06T19:56:55.922631Z",
     "start_time": "2024-01-06T19:56:55.917694Z"
    }
   },
   "id": "b8beada2cdac36c2"
  },
  {
   "cell_type": "markdown",
   "source": [
    "This is all for graphs. This is a class that is still in development. There may be problems with its behaviours. And there is of course not enough methods to make it useful. More algorithms and operations will be coming in the next versions."
   ],
   "metadata": {
    "collapsed": false
   },
   "id": "d54c75f1ff30a56c"
  },
  {
   "cell_type": "code",
   "execution_count": null,
   "outputs": [],
   "source": [],
   "metadata": {
    "collapsed": false
   },
   "id": "d7011c109af826c1"
  }
 ],
 "metadata": {
  "kernelspec": {
   "display_name": "Python 3",
   "language": "python",
   "name": "python3"
  },
  "language_info": {
   "codemirror_mode": {
    "name": "ipython",
    "version": 2
   },
   "file_extension": ".py",
   "mimetype": "text/x-python",
   "name": "python",
   "nbconvert_exporter": "python",
   "pygments_lexer": "ipython2",
   "version": "2.7.6"
  }
 },
 "nbformat": 4,
 "nbformat_minor": 5
}

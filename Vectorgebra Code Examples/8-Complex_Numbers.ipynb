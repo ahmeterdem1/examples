{
 "cells": [
  {
   "cell_type": "code",
   "execution_count": 1,
   "id": "initial_id",
   "metadata": {
    "collapsed": true,
    "ExecuteTime": {
     "end_time": "2024-01-02T20:41:54.118223Z",
     "start_time": "2024-01-02T20:41:54.115355Z"
    }
   },
   "outputs": [],
   "source": [
    "from vectorgebra import *\n",
    "# VERSION 2.7.4"
   ]
  },
  {
   "cell_type": "markdown",
   "source": [
    "# Complex Numbers\n",
    "\n",
    "Vectorgebra has a class of complex numbers, just like vectorgebra.Vector, that has basic and some more sophisticated operations defined on complex set of numbers. Action of this class is very similar to vectors, 2D vectors. There are some similar and some very different methods. We may start with initializing one."
   ],
   "metadata": {
    "collapsed": false
   },
   "id": "b3d02c272d5ee7d9"
  },
  {
   "cell_type": "code",
   "execution_count": 2,
   "outputs": [
    {
     "name": "stdout",
     "output_type": "stream",
     "text": [
      "My complex number is: 1 + 2i\n"
     ]
    }
   ],
   "source": [
    "c = complex(1, 2)\n",
    "print(f\"My complex number is: {c}\")"
   ],
   "metadata": {
    "collapsed": false,
    "ExecuteTime": {
     "end_time": "2024-01-02T20:41:54.121809Z",
     "start_time": "2024-01-02T20:41:54.120801Z"
    }
   },
   "id": "422ad342a9c4feb8"
  },
  {
   "cell_type": "markdown",
   "source": [
    "Real part of the number is obtained with vectorgebra.complex.real, imaginary part is obtained with vectorgebra.complex.imaginary. Algebraic operations, comparison operators, etc. are also defined on this class."
   ],
   "metadata": {
    "collapsed": false
   },
   "id": "ba152cfea8caef9f"
  },
  {
   "cell_type": "code",
   "execution_count": 3,
   "outputs": [
    {
     "name": "stdout",
     "output_type": "stream",
     "text": [
      "The real part: 1\n",
      "The imaginary part: 2\n",
      "Sum: 2 + 4i\n",
      "Multiplication and Subtraction: 6.2 + 2.4i\n",
      "Divison: -0.15384615384615385 + 1.2307692307692308i\n"
     ]
    }
   ],
   "source": [
    "print(f\"The real part: {c.real}\")\n",
    "print(f\"The imaginary part: {c.imaginary}\")\n",
    "\n",
    "\n",
    "d = complex(3, -2)\n",
    "print(f\"Sum: {c + c}\")\n",
    "print(f\"Multiplication and Subtraction: {c * d - 0.8 * c}\")\n",
    "print(f\"Division: {c / (d / 2)}\")"
   ],
   "metadata": {
    "collapsed": false,
    "ExecuteTime": {
     "end_time": "2024-01-02T20:45:06.885893Z",
     "start_time": "2024-01-02T20:45:06.880180Z"
    }
   },
   "id": "6e926df16860e68c"
  },
  {
   "cell_type": "markdown",
   "source": [
    "Conjugation can be done on complex numbers. This is also used for hermitian conjugate in vectorgebra.Matrix. You can measure the length of the complex number, make it a unit number, take the inverse of it. Inverse of a complex number $c$ is defined as $\\frac{1}{c}$. This is of course just another complex number with a real and an imaginary part. The inversion is the basis of complex number division."
   ],
   "metadata": {
    "collapsed": false
   },
   "id": "a142b76919d117b3"
  },
  {
   "cell_type": "code",
   "execution_count": 6,
   "outputs": [
    {
     "name": "stdout",
     "output_type": "stream",
     "text": [
      "The conjugate: 1 - 2i\n",
      "Measure the length: 5\n",
      "Make it unit: 0.4472135954999579 + 0.8944271909999159i\n",
      "What is 1/c? -- 0.2 - 0.4i -- Prove it (c * 1/c): 1.0 + 0.0i\n"
     ]
    }
   ],
   "source": [
    "print(f\"The conjugate: {c.conjugate()}\")\n",
    "print(f\"Measure the length: {c.length()}\")\n",
    "print(f\"Make it unit: {c.unit()}\")\n",
    "print(f\"What is 1/c? -- {c.inverse()} -- Prove it (c * 1/c): {c * c.inverse()}\")"
   ],
   "metadata": {
    "collapsed": false,
    "ExecuteTime": {
     "end_time": "2024-01-02T20:48:47.201040Z",
     "start_time": "2024-01-02T20:48:47.194015Z"
    }
   },
   "id": "a22b74cd62f6baac"
  },
  {
   "cell_type": "markdown",
   "source": [
    "A kind of uncommon operation is vectorgebra.complex.sqrt. You can take square roots of complex numbers. This is done via assuming the complex number as $e^{i \\theta}$. Then its square root would be $e^{i \\frac{\\theta}{2}}$. We first find the angle, then take half of it. Then recalculate the real and imaginary parts of the number. This operation may be imprecise. This should be kept in mind when working with complex numbers. \n",
    "\n",
    "vectorgebra.sqrt also accepts complex numbers."
   ],
   "metadata": {
    "collapsed": false
   },
   "id": "1bcb011b413d1d42"
  },
  {
   "cell_type": "code",
   "execution_count": 7,
   "outputs": [
    {
     "name": "stdout",
     "output_type": "stream",
     "text": [
      "The square root is: 1.2720196495140694 + 0.7861513777574224i\n",
      "Check if it is correct: 2.6645352591003757e-15 - 1.5543122344752192e-15i\n"
     ]
    }
   ],
   "source": [
    "c_sqrt = c.sqrt()\n",
    "print(f\"The square root is: {c_sqrt}\")\n",
    "print(f\"Check if it is correct: {c_sqrt ** 2 - c}\")"
   ],
   "metadata": {
    "collapsed": false,
    "ExecuteTime": {
     "end_time": "2024-01-02T20:52:00.073418Z",
     "start_time": "2024-01-02T20:52:00.060500Z"
    }
   },
   "id": "48925d0638945195"
  },
  {
   "cell_type": "markdown",
   "source": [
    "You can rotate complex numbers just as vectors with the same principle as above. Think of them as $e^{i \\theta}$. \n",
    "<br>\n",
    "$c_{rotated}\\:=\\:c \\cdot e^{i \\theta}$\n",
    "<br>\n",
    "$Rotation\\:Factor\\:=\\:e^{i \\theta}$\n",
    "<br>\n",
    "$Rotation\\:Factor\\:=\\:\\frac{c_{rotated}}{c}$\n",
    "<br>\n",
    "$cos \\theta + isin \\theta\\:=\\:\\frac{c_{rotated}}{c}$\n",
    "<br>\n",
    "$\\theta = 60$\n",
    "<br>\n",
    "$\\frac{1}{2} + i \\cdot \\frac{\\sqrt{3}}{2}\\:\\approx\\:\\frac{c_{rotated}}{c}$\n",
    "<br>"
   ],
   "metadata": {
    "collapsed": false
   },
   "id": "16246ce3c7e218b9"
  },
  {
   "cell_type": "code",
   "execution_count": 25,
   "outputs": [
    {
     "name": "stdout",
     "output_type": "stream",
     "text": [
      "Rotated number: 2.8660254037842288 + 2.9641016151379276i\n",
      "Measured factor: 0.4999999999999404 + 0.8660254037844669i\n",
      "Would be factor: 0.5 + 0.8660254037844386i\n"
     ]
    }
   ],
   "source": [
    "c_rot = c.rotate(60) # cosine of 60 is 1/2. We will just calculate the error\n",
    "print(f\"Rotated number: {c_rot}\")\n",
    "factor = c_rot / c\n",
    "print(f\"Measured factor: {factor}\")\n",
    "print(f\"Would be factor: {0.5} + {sqrt(3)/2}i\") # Analytic value"
   ],
   "metadata": {
    "collapsed": false,
    "ExecuteTime": {
     "end_time": "2024-01-02T21:14:37.105400Z",
     "start_time": "2024-01-02T21:14:37.096610Z"
    }
   },
   "id": "dd36e1a50700fe31"
  },
  {
   "cell_type": "markdown",
   "source": [
    "You can directly get the rotation factor with any resolution you want with vectorgebra.complex.rotationFactor(_angle_, _resolution_).\n",
    "\n",
    "The last thing on complex numbers is that, you can generate complex ranges as iterables. Just the same as vectorgebra.Range, you have vectorgebra.complex.range. You can put either integer or float numbers. IT also has decimal.Decimal support. \n",
    "\n",
    "First 2 arguments are low and high limits for real part. Next 2 arguments are low and high limits for imaginary part. Next argument is the increment step for the real part. Last argument is the increment step for the imaginary part. Always be careful when playing with floating point valued ranges."
   ],
   "metadata": {
    "collapsed": false
   },
   "id": "15b7fa71c440029f"
  },
  {
   "cell_type": "code",
   "execution_count": 23,
   "outputs": [
    {
     "name": "stdout",
     "output_type": "stream",
     "text": [
      "1 - 2i\n",
      "1 - 1i\n",
      "2 - 2i\n",
      "2 - 1i\n",
      "3 - 2i\n",
      "3 - 1i\n",
      "4 - 2i\n",
      "4 - 1i\n"
     ]
    }
   ],
   "source": [
    "for c in complex.range(1, 5, -2, 0, 1, 1):\n",
    "    print(c)"
   ],
   "metadata": {
    "collapsed": false,
    "ExecuteTime": {
     "end_time": "2024-01-02T21:10:39.474399Z",
     "start_time": "2024-01-02T21:10:39.467921Z"
    }
   },
   "id": "a6e8061c6f403361"
  },
  {
   "cell_type": "markdown",
   "source": [
    "vectorgebra.complex is a compact class that represents specialized 2D vectors. That is pretty much it for all. We have skipped some overloaded functions probably, but covered most of it. "
   ],
   "metadata": {
    "collapsed": false
   },
   "id": "d0fad0960a0e6d82"
  },
  {
   "cell_type": "code",
   "execution_count": null,
   "outputs": [],
   "source": [],
   "metadata": {
    "collapsed": false
   },
   "id": "2c80deb80f1cbf6b"
  }
 ],
 "metadata": {
  "kernelspec": {
   "display_name": "Python 3",
   "language": "python",
   "name": "python3"
  },
  "language_info": {
   "codemirror_mode": {
    "name": "ipython",
    "version": 2
   },
   "file_extension": ".py",
   "mimetype": "text/x-python",
   "name": "python",
   "nbconvert_exporter": "python",
   "pygments_lexer": "ipython2",
   "version": "2.7.6"
  }
 },
 "nbformat": 4,
 "nbformat_minor": 5
}

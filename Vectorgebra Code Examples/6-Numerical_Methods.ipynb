{
 "cells": [
  {
   "cell_type": "code",
   "execution_count": 21,
   "id": "initial_id",
   "metadata": {
    "collapsed": true,
    "ExecuteTime": {
     "end_time": "2023-12-27T21:33:07.325747Z",
     "start_time": "2023-12-27T21:33:07.301484Z"
    }
   },
   "outputs": [],
   "source": [
    "from vectorgebra import *\n",
    "# VERSION 2.7.3"
   ]
  },
  {
   "cell_type": "markdown",
   "source": [
    "# Numerical Methods\n",
    "\n",
    "Of course vectorgebra is a numerical methods library. And up to this point in the tutorials, it has been. Here, we will talk about general purpose mathematical operations separate from linear algebra. This section is for numerical methods without linear algebra.\n",
    "\n",
    "Vectorgebra's span of mathematics start from the most basic ones like abs() and go up to linear and polynomial regression, and even to K-Means algorithm. We will cover the highlights of this span.\n",
    "\n",
    "Firstly, vectorgebra has its own range object. This iterator allows floating point steps, and even decimal.Decimal steps."
   ],
   "metadata": {
    "collapsed": false
   },
   "id": "5dae32fdd8846d86"
  },
  {
   "cell_type": "code",
   "execution_count": 22,
   "outputs": [
    {
     "name": "stdout",
     "output_type": "stream",
     "text": [
      "0 | 0.1 | 0.2 | 0.30000000000000004 | 0.4 | 0.5 | 0.6 | 0.7 | 0.7999999999999999 | 0.8999999999999999 | 0.9999999999999999 | "
     ]
    }
   ],
   "source": [
    "for k in Range(0, 1, 0.1):\n",
    "    print(k, end=\" | \")"
   ],
   "metadata": {
    "collapsed": false,
    "ExecuteTime": {
     "end_time": "2023-12-27T21:33:07.328098Z",
     "start_time": "2023-12-27T21:33:07.305902Z"
    }
   },
   "id": "14a61eee2ef48257"
  },
  {
   "cell_type": "markdown",
   "source": [
    "Of course there are floating point errors, you see the 0.9999999 at the end? But this can be solved very easily."
   ],
   "metadata": {
    "collapsed": false
   },
   "id": "f583defd66e6717f"
  },
  {
   "cell_type": "code",
   "execution_count": 23,
   "outputs": [
    {
     "name": "stdout",
     "output_type": "stream",
     "text": [
      "0 | 0.1000000000000000055511151231 | 0.2000000000000000111022302462 | 0.3000000000000000166533453693 | 0.4000000000000000222044604924 | 0.5000000000000000277555756155 | 0.6000000000000000333066907386 | 0.7000000000000000388578058617 | 0.8000000000000000444089209848 | 0.9000000000000000499600361079 | "
     ]
    }
   ],
   "source": [
    "for k in Range(Decimal(0), Decimal(1), Decimal(0.1)):\n",
    "    print(k, end=\" | \")"
   ],
   "metadata": {
    "collapsed": false,
    "ExecuteTime": {
     "end_time": "2023-12-27T21:33:07.328243Z",
     "start_time": "2023-12-27T21:33:07.310108Z"
    }
   },
   "id": "8e84ff720f6f8228"
  },
  {
   "cell_type": "markdown",
   "source": [
    "Now the errors are much much lower. But they still exist since they are inherent to digital computers. You should be careful when playing with float step ranges.\n",
    "\n",
    "Other than that, you have some constants that you can use in your code applications. You can find a complete list at the [github](https://github.com/ahmeterdem1/Vector) page."
   ],
   "metadata": {
    "collapsed": false
   },
   "id": "629c28ccc96eeb44"
  },
  {
   "cell_type": "code",
   "execution_count": 24,
   "outputs": [
    {
     "name": "stdout",
     "output_type": "stream",
     "text": [
      "e: 2.718281828459\n",
      "π: 3.14159265359\n",
      "√(2π): 2.50662827463\n",
      "ln2: 0.6931471805599569\n"
     ]
    }
   ],
   "source": [
    "print(f\"e: {E}\\nπ: {PI}\\n√(2π): {sqrt2pi}\\nln2: {ln2}\")"
   ],
   "metadata": {
    "collapsed": false,
    "ExecuteTime": {
     "end_time": "2023-12-27T21:33:07.351573Z",
     "start_time": "2023-12-27T21:33:07.315486Z"
    }
   },
   "id": "17e98e482f71db87"
  },
  {
   "cell_type": "markdown",
   "source": [
    "## Helper Classes\n",
    "\n",
    "You have 2 different helper classes for mathematical operations. vectorgebra.Infinity and vectorgebra.Undefined. Undefined is just an object that has all mathematical operations overloaded so no exceptions are raised. Infinity is what it is. Default is positive infinity. To get a negative infinity either put \"-\" in front or construct with \"Infinity(False)\"."
   ],
   "metadata": {
    "collapsed": false
   },
   "id": "3875123739420b9f"
  },
  {
   "cell_type": "code",
   "execution_count": 25,
   "outputs": [
    {
     "name": "stdout",
     "output_type": "stream",
     "text": [
      "Sum of 2 positive infinities: Infinity(positive)\n",
      "Subtraction of 2 positive infinities: Undefined()\n"
     ]
    }
   ],
   "source": [
    "print(f\"Sum of 2 positive infinities: {Infinity() + Infinity()}\")\n",
    "print(f\"Subtraction of 2 positive infinities: {Infinity() - Infinity()}\")"
   ],
   "metadata": {
    "collapsed": false,
    "ExecuteTime": {
     "end_time": "2023-12-27T21:33:07.352397Z",
     "start_time": "2023-12-27T21:33:07.320182Z"
    }
   },
   "id": "feb66a26243e29b2"
  },
  {
   "cell_type": "markdown",
   "source": [
    "## Trigonometrics\n",
    "\n",
    "Trigonometric functions in vectorgebra consist of basic sin, cos, tan, cot and their inverses. You also have hyperbolic trigonometric functions. But you don't have inverses for those. You have the \"resolution\" argument for all of those functions, but the default resolution is mostly enough.\n",
    "\n",
    "These functions are calculated via Taylor series. Resolution number determines the amount of terms in the Taylor series that are to be calculated. The exact amount may change from function to function, but the idea is the same."
   ],
   "metadata": {
    "collapsed": false
   },
   "id": "434ae5eed8ed8ef6"
  },
  {
   "cell_type": "code",
   "execution_count": 26,
   "outputs": [
    {
     "name": "stdout",
     "output_type": "stream",
     "text": [
      "sin(45) in degrees by the function: 0.7071067811865841\n",
      "sin(45) in degrees by analytic solution: 0.707106781185\n",
      "\n",
      "Calculate tanh until it gets very close to 1:\n",
      "Value is calculated to be: 0.9999131193972374 at x: 4.799999999999999\n"
     ]
    }
   ],
   "source": [
    "print(f\"sin(45) in degrees by the function: {sin(45)}\")\n",
    "print(f\"sin(45) in degrees by analytic solution: {sqrt2/2}\\n\")\n",
    "\n",
    "print(f\"Calculate tanh until it gets very close to 1:\")\n",
    "\n",
    "for x in Range(0, Infinity(), 0.1):\n",
    "    val = tanh(x)\n",
    "    if abs(1 - val) < 0.0001:\n",
    "        print(f\"Value is calculated to be: {val} at x: {x}\")\n",
    "        break"
   ],
   "metadata": {
    "collapsed": false,
    "ExecuteTime": {
     "end_time": "2023-12-27T21:33:07.370631Z",
     "start_time": "2023-12-27T21:33:07.328156Z"
    }
   },
   "id": "ce320a8b9eb48ff6"
  },
  {
   "cell_type": "markdown",
   "source": [
    "## Logarithms and e\n",
    "\n",
    "Vectorgebra implements the exponential function as \"e()\". The letter \"e\" is therefore defined in vectorgebra. The letter \"E\" is also defined as the number itself. \n",
    "\n",
    "Logarithms consist of several functions. \"log2()\" function is the basis for all other logarithm functions. You have base-2 logarithm, natural base logarithm, base-10 logarithm, any base logarithm. These functions utilize predefined constants to make calculations faster like \"ln2\", etc.\n",
    "\n",
    "There is error in each of the above functions. For better accuracy, use \"resolution\" parameter."
   ],
   "metadata": {
    "collapsed": false
   },
   "id": "120e98683a19db41"
  },
  {
   "cell_type": "code",
   "execution_count": 31,
   "outputs": [
    {
     "name": "stdout",
     "output_type": "stream",
     "text": [
      "Calculated natural logarithm of 2: 0.6931260273867221\n",
      "Predefined natural logarithm of 2: 0.6931471805599569\n",
      "\n",
      "Some random base logarithm: 1.8338169470597314\n",
      "Is it true? -> 12.345708422013098 -- Apparently, yes.\n"
     ]
    }
   ],
   "source": [
    "print(f\"Calculated natural logarithm of 2: {ln(2)}\")\n",
    "print(f\"Predefined natural logarithm of 2: {ln2}\\n\")\n",
    "\n",
    "result = log(x=12.3452845, base=3.9374528)\n",
    "print(f\"Some random base logarithm: {result}\")\n",
    "print(f\"Is it true? -> {pow(3.9374528, result)} -- Apparently, yes.\")"
   ],
   "metadata": {
    "collapsed": false,
    "ExecuteTime": {
     "end_time": "2023-12-27T21:41:34.182034Z",
     "start_time": "2023-12-27T21:41:34.176508Z"
    }
   },
   "id": "27409c7bf7aebbbf"
  },
  {
   "cell_type": "markdown",
   "source": [
    "## Solving Equations\n",
    "\n",
    "This is probably one of the most powerful tools of vectorgebra. You can solve any equation in vectorgebra, with some accuracy. There are 2 methods of equation solving.\n",
    "\n",
    "The first one is vectorgebra.solve(). You put in the function, required range, search step, the method finds all zeroes of the function in the given range. There may be more found values than there are zeroes, but this is because this function sometimes returns more than 1 x-value for a zero. These returned values are very close to each other. This is also the reason why.\n",
    "\n",
    "This method uses an algorithm alike bisection. Instead of bisecting the range, it zooms in. This function utilizes threads. Each possible zero is investigated in another thread. Using a compiler that does not suffer from GIL should make this function work a lot faster than CPython.\n",
    "\n",
    "The other is vectorgebra.findsol(). This function uses the Newton method for solving the equation. It can only return a single zero of the function due to the algorithms nature.\n",
    "\n",
    "Let's see both of them in action."
   ],
   "metadata": {
    "collapsed": false
   },
   "id": "e44390d7a05cbef2"
  },
  {
   "cell_type": "code",
   "execution_count": 36,
   "outputs": [
    {
     "name": "stdout",
     "output_type": "stream",
     "text": [
      "All found solutions in range [-50, 50] are: [-1.103799999999559, 3.5244000000004436]\n",
      "Functions value at solution 1: -0.004160836685169755\n",
      "Functions value at solution 2: -0.0036411065720187707\n",
      "Using the newton method: -1.103899406083527\n",
      "Functions value at the found zero: -3.552713678800501e-15\n"
     ]
    }
   ],
   "source": [
    "f = lambda x: 0.768 * (x**6) - 2.341 * (x**5) - 5 * (x**3) + 1.2 * (x**2) + 4 * x - 9\n",
    "\n",
    "sols = solve(f)\n",
    "print(f\"All found solutions in range [-50, 50] are: {sols}\")\n",
    "print(f\"Functions value at solution 1: {f(sols[0])}\")\n",
    "print(f\"Functions value at solution 2: {f(sols[1])}\")\n",
    "\n",
    "newton = findsol(f, -1)\n",
    "print(f\"Using the newton method: {newton}\")\n",
    "print(f\"Functions value at the found zero: {f(newton)}\")"
   ],
   "metadata": {
    "collapsed": false,
    "ExecuteTime": {
     "end_time": "2023-12-27T21:57:36.116094Z",
     "start_time": "2023-12-27T21:57:36.022661Z"
    }
   },
   "id": "11ba352a97315b1a"
  },
  {
   "cell_type": "markdown",
   "source": [
    "You need to put in an initial guess for the Newton method. Depending on the choice, the result may blow up. You can also modify \"resolution\" argument for that function to get more accurate results.\n",
    "\n",
    "Default search range for vectorgebra.solve() is from -50 to 50. This might be overkill for some functions.\n",
    "\n",
    "Do NOT use vectorgebra.solve() in threads. It is already threaded. Using it in your own threads will result in unexpected errors. Using it in child processes however is completely fine.\n",
    "\n",
    "You can use vectorgebra.__find() function to create your own function solvers. This is a helper function to vectorgebra.solve(). It accepts the same parameters, and it is not threaded. vectorgebra.__find() zooms in the suspected range, returns a value if it finds a zero. \"res\" argument is used to control this operation. Lowering it will result in more accurate findings. This, however, is not the case for all. This argument requires tuning for each function."
   ],
   "metadata": {
    "collapsed": false
   },
   "id": "f98747fa635589d5"
  },
  {
   "cell_type": "markdown",
   "source": [
    "## Derivative and Integral\n",
    "\n",
    "Derivatives and integrals are implemented as basic operations. Derivative is calculated from its limit definition, integral is calculated via midpoint rule."
   ],
   "metadata": {
    "collapsed": false
   },
   "id": "6a8134b22b5d247d"
  },
  {
   "cell_type": "code",
   "execution_count": 37,
   "outputs": [
    {
     "name": "stdout",
     "output_type": "stream",
     "text": [
      "Derivative at x=3: 6.000000496442226\n",
      "Integral from 1 to 3: 8.756950249999948\n"
     ]
    }
   ],
   "source": [
    "f = lambda x: x**2\n",
    "\n",
    "print(f\"Derivative at x=3: {derivative(f, 3)}\")\n",
    "print(f\"Integral from 1 to 3: {integrate(f, 1, 3)}\")"
   ],
   "metadata": {
    "collapsed": false,
    "ExecuteTime": {
     "end_time": "2023-12-27T22:11:21.282855Z",
     "start_time": "2023-12-27T22:11:21.256424Z"
    }
   },
   "id": "4f8a9acb2196e5f3"
  },
  {
   "cell_type": "markdown",
   "source": [
    "These cover the highlights of numerical methods for general purpose mathematics. There are more functions and tools, many more than showed here, but these are probably the most important ones among them."
   ],
   "metadata": {
    "collapsed": false
   },
   "id": "11d991fe18042021"
  },
  {
   "cell_type": "code",
   "execution_count": null,
   "outputs": [],
   "source": [],
   "metadata": {
    "collapsed": false
   },
   "id": "77404516f3db2f32"
  }
 ],
 "metadata": {
  "kernelspec": {
   "display_name": "Python 3",
   "language": "python",
   "name": "python3"
  },
  "language_info": {
   "codemirror_mode": {
    "name": "ipython",
    "version": 2
   },
   "file_extension": ".py",
   "mimetype": "text/x-python",
   "name": "python",
   "nbconvert_exporter": "python",
   "pygments_lexer": "ipython2",
   "version": "2.7.6"
  }
 },
 "nbformat": 4,
 "nbformat_minor": 5
}

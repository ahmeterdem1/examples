{
 "cells": [
  {
   "cell_type": "code",
   "execution_count": 1,
   "id": "initial_id",
   "metadata": {
    "collapsed": true,
    "ExecuteTime": {
     "end_time": "2023-12-26T20:03:28.979958Z",
     "start_time": "2023-12-26T20:03:28.975622Z"
    }
   },
   "outputs": [],
   "source": [
    "from vectorgebra import *\n",
    "# VERSION 2.7.3"
   ]
  },
  {
   "cell_type": "markdown",
   "source": [
    "## Vector Rotations\n",
    "\n",
    "Vector rotations are implemented via Givens matrices. You need to specifiy the axes to rotate around, and then the angle."
   ],
   "metadata": {
    "collapsed": false
   },
   "id": "ce52467b00a762ef"
  },
  {
   "cell_type": "code",
   "execution_count": 13,
   "outputs": [
    {
     "name": "stdout",
     "output_type": "stream",
     "text": [
      "Rotated vector: [1, 1.40883205280551, -0.12325683343251981]\n"
     ]
    }
   ],
   "source": [
    "v = Vector(1, 1, 1)\n",
    "v_rotated = v.rotate(1, 2, 50, resolution=200)\n",
    "print(f\"Rotated vector: {v_rotated}\")"
   ],
   "metadata": {
    "collapsed": false,
    "ExecuteTime": {
     "end_time": "2023-12-26T20:07:08.416505Z",
     "start_time": "2023-12-26T20:07:08.410271Z"
    }
   },
   "id": "13cc9cafe1dddf71"
  },
  {
   "cell_type": "markdown",
   "source": [
    "## Machine Learning Related Operations\n",
    "\n",
    "There are some methods for vectors that are used for machine learning applications. Those are given below."
   ],
   "metadata": {
    "collapsed": false
   },
   "id": "38539fb2b91529b1"
  },
  {
   "cell_type": "code",
   "execution_count": 17,
   "outputs": [
    {
     "name": "stdout",
     "output_type": "stream",
     "text": [
      "Original vector: [-1.966240385416279, -0.1099841656570053, -0.9730735857314139]\n",
      "Result of the softmax operation: [0.09901476943479888, 0.6336680648039452, 0.2673171657612559]\n",
      "Result of the minmax operation: [0.0, 1.0, 0.5350375606087735]\n",
      "Result of the sigmoid operation: [0.12279328012122523, 0.4725316422922575, 0.27426829546043036]\n",
      "Result of the ReLU operation: [-0.0, -0.0, -0.0]\n"
     ]
    }
   ],
   "source": [
    "test_vector = Vector.randVfloat(3, -3, 3, False)\n",
    "\n",
    "print(f\"Original vector: {test_vector}\")\n",
    "print(f\"Result of the softmax operation: {test_vector.softmax()}\")\n",
    "print(f\"Result of the minmax operation: {test_vector.minmax()}\")\n",
    "print(f\"Result of the sigmoid operation: {test_vector.sig()}\")\n",
    "print(f\"Result of the ReLU operation: {test_vector.relu()}\")"
   ],
   "metadata": {
    "collapsed": false,
    "ExecuteTime": {
     "end_time": "2023-12-26T20:11:07.359920Z",
     "start_time": "2023-12-26T20:11:07.356405Z"
    }
   },
   "id": "76e04630680f1f8f"
  },
  {
   "cell_type": "markdown",
   "source": [
    "Above operations work by mapping the vectors according to the given functions. Softmax operation accepts the \"resolution\" parameter. The others don't. You can specify a leak and a cutoff for ReLU. You can specify the coefficient of x in the sigmoid function via the argument named \"a\".\n",
    "\n",
    "## Mapping and Filtering\n",
    "\n",
    "Above operations are based on mapping. You can also map your vector with any function of choice yours. The same also goes for filtering. The function for filtering must be returning a bool."
   ],
   "metadata": {
    "collapsed": false
   },
   "id": "c0263efa7410536b"
  },
  {
   "cell_type": "code",
   "execution_count": 18,
   "outputs": [
    {
     "name": "stdout",
     "output_type": "stream",
     "text": [
      "The initial vector: [1, 2, 3, 4]\n",
      "After mapping: [1, 4, 9, 16]\n",
      "After filtering: [2, 4]\n"
     ]
    }
   ],
   "source": [
    "f = lambda x: x**2\n",
    "g = lambda x: True if not x % 2 else False\n",
    "\n",
    "v = Vector(1, 2, 3, 4)\n",
    "print(f\"The initial vector: {v}\")\n",
    "print(f\"After mapping: {v.map(f)}\")\n",
    "print(f\"After filtering: {v.filter(g)}\")\n",
    "\n"
   ],
   "metadata": {
    "collapsed": false,
    "ExecuteTime": {
     "end_time": "2023-12-26T20:17:37.288507Z",
     "start_time": "2023-12-26T20:17:37.267101Z"
    }
   },
   "id": "17f87a8132925872"
  },
  {
   "cell_type": "markdown",
   "source": [
    "## Matrix Related Methods\n",
    "\n",
    "There are some methods on vectorgebra.Vector that returns matrices or are related to them. These are .reshape() and .outer(). .reshape() is used to literally reshape the vector. It takes 2 arguments whose multiplication must yield the dimension of the vector. .outer() is a static method that returns the outer product of the given vectors."
   ],
   "metadata": {
    "collapsed": false
   },
   "id": "98d509ff75442d37"
  },
  {
   "cell_type": "code",
   "execution_count": 22,
   "outputs": [
    {
     "name": "stdout",
     "output_type": "stream",
     "text": [
      "The initial vectors:\n",
      "[4, 2, 3]\n",
      "[2, 5, 0]\n",
      "\n",
      "Outer product of the vectors:\n",
      "[ 8 , 20, 0 ]\n",
      "[ 4 , 10, 0 ]\n",
      "[ 6 , 15, 0 ]\n",
      "\n",
      "The vector before reshaping: [1, 1, 1, 4]\n",
      "After reshaping (2, 2):\n",
      "[ 1, 1]\n",
      "[ 1, 4]\n"
     ]
    }
   ],
   "source": [
    "v = Vector.randVint(3, 0, 5, False)\n",
    "w = Vector.randVint(3, 0, 5, False)\n",
    "print(f\"The initial vectors:\\n{v}\\n{w}\\n\")\n",
    "\n",
    "print(f\"Outer product of the vectors:\\n{Vector.outer(v, w)}\\n\")\n",
    "a = Vector.randVint(4, 0, 5, False)\n",
    "print(f\"The vector before reshaping: {a}\")\n",
    "print(f\"After reshaping (2, 2):\\n{a.reshape(2, 2)}\")"
   ],
   "metadata": {
    "collapsed": false,
    "ExecuteTime": {
     "end_time": "2023-12-26T20:25:20.169212Z",
     "start_time": "2023-12-26T20:25:20.163532Z"
    }
   },
   "id": "8fb4689e6743a0bd"
  },
  {
   "cell_type": "markdown",
   "source": [
    "Those conclude almost all on vectorgebra.Vector objects. Right after this point, vectorgebra.Matrix objects take over. Those are more complicated, better engineered objects that are capable of being the tools of much higher level calculations.\n",
    "\n",
    "The remaining untold part of vectors are overloaded methods. We can safely say that almost all methods that you can think of are overloaded. Logic operations and algebraic operations are overloaded. Comparison operators are also overloaded. Some more information on those can be found at either the github page or the pypi page."
   ],
   "metadata": {
    "collapsed": false
   },
   "id": "6f1a0d74b2269b24"
  },
  {
   "cell_type": "code",
   "execution_count": null,
   "outputs": [],
   "source": [],
   "metadata": {
    "collapsed": false
   },
   "id": "bae52aaeb8a70b7f"
  }
 ],
 "metadata": {
  "kernelspec": {
   "display_name": "Python 3",
   "language": "python",
   "name": "python3"
  },
  "language_info": {
   "codemirror_mode": {
    "name": "ipython",
    "version": 2
   },
   "file_extension": ".py",
   "mimetype": "text/x-python",
   "name": "python",
   "nbconvert_exporter": "python",
   "pygments_lexer": "ipython2",
   "version": "2.7.6"
  }
 },
 "nbformat": 4,
 "nbformat_minor": 5
}

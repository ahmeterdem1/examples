{
 "cells": [
  {
   "cell_type": "code",
   "execution_count": 2,
   "id": "initial_id",
   "metadata": {
    "collapsed": true,
    "ExecuteTime": {
     "end_time": "2023-12-26T13:22:57.187324Z",
     "start_time": "2023-12-26T13:22:57.157912Z"
    }
   },
   "outputs": [],
   "source": [
    "from vectorgebra import *\n",
    "# VERSION 2.7.2"
   ]
  },
  {
   "cell_type": "markdown",
   "source": [
    "# Vector Algebra\n",
    "\n",
    "The main purpose of vectorgebra.Vector class is to allow the user to apply all sorts of linear algebra and other useful operations to create meaningful results in their work. For this purpose, there are many methods that we can work with.\n",
    "\n",
    "## Scalar Product and Angle Between Vectors\n",
    "\n",
    "Vectorgebra implements scalar product of vectors. And from it we can also calculate the angle between 2 vectors, which may be required for all sorts of things. Scalar multiplication is done via _vector.dot(other_vector) method."
   ],
   "metadata": {
    "collapsed": false
   },
   "id": "10bc2aa6b83f68d8"
  },
  {
   "cell_type": "code",
   "execution_count": 3,
   "outputs": [
    {
     "name": "stdout",
     "output_type": "stream",
     "text": [
      "Scalar product of [1, 2] and [3, 4] is: 11\n"
     ]
    }
   ],
   "source": [
    "v = Vector(1, 2)\n",
    "w = Vector(3, 4)\n",
    "\n",
    "print(f\"Scalar product of {v} and {w} is: {v.dot(w)}\")"
   ],
   "metadata": {
    "collapsed": false,
    "ExecuteTime": {
     "end_time": "2023-12-26T13:22:58.515680Z",
     "start_time": "2023-12-26T13:22:58.506763Z"
    }
   },
   "id": "bda1aa71ac77b8e5"
  },
  {
   "cell_type": "markdown",
   "source": [
    "1 * 3 + 4 * 2 = 11, of course.\n",
    "\n",
    "From the definition $a \\cdot b\\:=\\:|a||b|cos\\theta$ we can calculate the angle between these vectors. _.length()_ method can be used to get the lengths of the vectors. Vectorgebra also implements trigonometric functions.\n",
    "\n"
   ],
   "metadata": {
    "collapsed": false
   },
   "id": "d4834cabb42b5c10"
  },
  {
   "cell_type": "code",
   "execution_count": 4,
   "outputs": [
    {
     "name": "stdout",
     "output_type": "stream",
     "text": [
      "The angle between [1, 2] and [3, 4] is 11.46 degrees.\n"
     ]
    }
   ],
   "source": [
    "LHS = v.dot(w)\n",
    "cos_theta = LHS / (v.length() * w.length())\n",
    "# arccos of the above value will be the angle between v and w\n",
    "\n",
    "print(f\"The angle between {v} and {w} is {arccos(cos_theta):.2f} degrees.\")\n"
   ],
   "metadata": {
    "collapsed": false,
    "ExecuteTime": {
     "end_time": "2023-12-26T13:22:59.677986Z",
     "start_time": "2023-12-26T13:22:59.673549Z"
    }
   },
   "id": "9b41ff5bcfae3796"
  },
  {
   "cell_type": "markdown",
   "source": [
    "You will, however, see that angle is off by around 1 degree. THese errors are also managable in Vectorgebra. Almost all transcendental and trigonometric functions have a second argument called \"resoltuion\". This is a positive integer that defines the number of iterations done internally by the function; which, in return, will directly affect the error in the result. We can increase the resolution to be around 100 to get a better approximation."
   ],
   "metadata": {
    "collapsed": false
   },
   "id": "4e6495079c8c4eaf"
  },
  {
   "cell_type": "code",
   "execution_count": 5,
   "outputs": [
    {
     "name": "stdout",
     "output_type": "stream",
     "text": [
      "The angle between [1, 2] and [3, 4] is 10.32 degrees.\n"
     ]
    }
   ],
   "source": [
    "print(f\"The angle between {v} and {w} is {arccos(cos_theta, resolution=100):.2f} degrees.\")\n",
    "# Be aware that higher resolutions will result in longer computational times."
   ],
   "metadata": {
    "collapsed": false,
    "ExecuteTime": {
     "end_time": "2023-12-26T13:23:00.972439Z",
     "start_time": "2023-12-26T13:23:00.964655Z"
    }
   },
   "id": "c1c15cbafb405f4d"
  },
  {
   "cell_type": "markdown",
   "source": [
    "## Projections\n",
    "\n",
    "Vectorgebra implements projections of a vector into another vector. This is a basic method, .proj()"
   ],
   "metadata": {
    "collapsed": false
   },
   "id": "ae8b3dcd9bcbfc78"
  },
  {
   "cell_type": "code",
   "execution_count": 6,
   "outputs": [
    {
     "name": "stdout",
     "output_type": "stream",
     "text": [
      "The projected vector is [1.32, 1.76]\n"
     ]
    }
   ],
   "source": [
    "v_on_w = v.proj(w) # v is projected onto w\n",
    "print(f\"The projected vector is {v_on_w}\")"
   ],
   "metadata": {
    "collapsed": false,
    "ExecuteTime": {
     "end_time": "2023-12-26T13:23:03.164821Z",
     "start_time": "2023-12-26T13:23:03.154452Z"
    }
   },
   "id": "323de6bbc754fa7f"
  },
  {
   "cell_type": "markdown",
   "source": [
    "This method allows us to check if a group of vectors span a given space. Let's check 3 random integer valued vectors on $\\mathbb R^{3}$. Will they span it?"
   ],
   "metadata": {
    "collapsed": false
   },
   "id": "a8d9c8206812ad56"
  },
  {
   "cell_type": "code",
   "execution_count": 7,
   "outputs": [
    {
     "name": "stdout",
     "output_type": "stream",
     "text": [
      "[-1, 0, 4]\n",
      "[1, 0, -2]\n",
      "[0, 3, -2]\n",
      "Do above vectors span the R^3 space: True\n"
     ]
    }
   ],
   "source": [
    "vector_list = [Vector.randVint(dim=3, a=-4, b=4, decimal=False) for k in range(3)]\n",
    "for vector in vector_list:\n",
    "    print(vector)\n",
    "\n",
    "print(f\"Do above vectors span the R^3 space: {Vector.does_span(*vector_list)}\")"
   ],
   "metadata": {
    "collapsed": false,
    "ExecuteTime": {
     "end_time": "2023-12-26T13:23:04.298808Z",
     "start_time": "2023-12-26T13:23:04.293914Z"
    }
   },
   "id": "1b89b2da6fc064ea"
  },
  {
   "cell_type": "markdown",
   "source": [
    "There is a lot going above. Firstly, the static method \"Vector.randVint\" generates a random integer valued vector. Its dimension can be specified via first positional argument \"dim\". Second and third positional arguments, \"a\" and \"b\" respectively, define the range of generation. The fourth positional argument, \"decimal\", is a boolean value to say if generated vector will have its values as decimal.Decimal() objects. This argument is \"True\" by default for almost everything in the library. Here it is disabled because we don't need the precision of _decimal_ library yet.\n",
    "\n",
    "The other static method _Vector.does_span()_ accepts n amount of n-dimensional vectors. The amount and the dimension must match. This function checks if the given vectors span the respective space and returns a bool.\n",
    "\n",
    "This method uses Vector.spanify() static method which applies the Gram-Schmidt process to given vectors."
   ],
   "metadata": {
    "collapsed": false
   },
   "id": "18ad2002c981280"
  },
  {
   "cell_type": "code",
   "execution_count": 8,
   "outputs": [
    {
     "name": "stdout",
     "output_type": "stream",
     "text": [
      "Before the Gram-Schmidt process:\n",
      "[0, -2, 1]\n",
      "[0, -4, 3]\n",
      "[3, 0, 3]\n",
      "\n",
      "After the Gram-Schmidt process:\n",
      "[0.0, -0.8944271909999159, 0.4472135954999579]\n",
      "[0.0, 0.44721359549995837, 0.8944271909999157]\n",
      "[1.0, -3.7007434154171886e-16, 1.4802973661668753e-16]\n"
     ]
    }
   ],
   "source": [
    "vector_list = [Vector.randVint(dim=3, a=-4, b=4, decimal=False) for k in range(3)]\n",
    "print(\"Before the Gram-Schmidt process:\")\n",
    "for vector in vector_list:\n",
    "    print(vector)\n",
    "    \n",
    "print()\n",
    "vector_list = Vector.spanify(*vector_list)\n",
    "print(\"After the Gram-Schmidt process:\")\n",
    "for vector in vector_list:\n",
    "    print(vector)\n"
   ],
   "metadata": {
    "collapsed": false,
    "ExecuteTime": {
     "end_time": "2023-12-26T13:23:05.975850Z",
     "start_time": "2023-12-26T13:23:05.964949Z"
    }
   },
   "id": "fb6bc46caac52d8f"
  },
  {
   "cell_type": "markdown",
   "source": [
    "## Built-in Vector Generations\n",
    "\n",
    "There are different ways to generate vectors in Vectorgebra. There are 4 different ways to randomly generate them, and 2 different ways to generate constant vectors."
   ],
   "metadata": {
    "collapsed": false
   },
   "id": "f95f86bd715565ce"
  },
  {
   "cell_type": "code",
   "execution_count": 38,
   "outputs": [
    {
     "name": "stdout",
     "output_type": "stream",
     "text": [
      "[2, 1, -2]\n",
      "[1.0588137143953178, 0.0625691443460159, -1.417972565613296]\n",
      "[1, 1, 0]\n",
      "[2.6453267870905326, -0.7506487994279554, 0.4721407933886545]\n",
      "[Decimal('0'), Decimal('0'), Decimal('0')]\n",
      "[1, 1, 1]\n"
     ]
    }
   ],
   "source": [
    "v_int = Vector.randVint(dim=3, a=-2, b=2, decimal=False)\n",
    "v_float = Vector.randVfloat(3, -2, 2, False)\n",
    "v_bool = Vector.randVbool(3, False)\n",
    "v_gauss = Vector.randVgauss(dim=3, mu=0, sigma=1, decimal=False)\n",
    "v_zero = Vector.zero(3, True)\n",
    "v_one = Vector.one(3, False)\n",
    "\n",
    "print(v_int)\n",
    "print(v_float)\n",
    "print(v_bool)\n",
    "print(v_gauss)\n",
    "print(v_zero)\n",
    "print(v_one)"
   ],
   "metadata": {
    "collapsed": false,
    "ExecuteTime": {
     "end_time": "2023-12-25T21:33:52.012897Z",
     "start_time": "2023-12-25T21:33:52.002072Z"
    }
   },
   "id": "4383b6744979ef17"
  },
  {
   "cell_type": "markdown",
   "source": [
    "## Vector Multiplication\n",
    "\n",
    "Cross product of 2 or more vectors can be calculated via .cross() method. This static method gets n - 1 of n dimensional vectors, and returns the cross product of them. \n",
    "\n",
    "This method is very, very slow for higher dimensional vectors because it is based upon coefficient method calculation of determinants. Its usage is discouraged for those cases."
   ],
   "metadata": {
    "collapsed": false
   },
   "id": "39d8cecf494c322"
  },
  {
   "cell_type": "code",
   "execution_count": 37,
   "outputs": [
    {
     "name": "stdout",
     "output_type": "stream",
     "text": [
      "Cross product of the vectors is [-2.122147848013827, 1.4324257594846737, -1.3319887308850604].\n",
      "Check if it is correct:\n",
      "v1 * result = 0.00\n",
      "v2 * result = 0.00\n"
     ]
    }
   ],
   "source": [
    "v_list = [Vector.randVfloat(3, -2, 2, False) for k in range(2)]\n",
    "\n",
    "result = Vector.cross(*v_list)\n",
    "\n",
    "print(f\"Cross product of the vectors is {result}.\")\n",
    "print(f\"Check if it is correct:\")\n",
    "\n",
    "print(f\"v1 * result = {v_list[0].dot(result):.2f}\")\n",
    "print(f\"v2 * result = {v_list[0].dot(result):.2f}\")"
   ],
   "metadata": {
    "collapsed": false,
    "ExecuteTime": {
     "end_time": "2023-12-25T21:31:20.673141Z",
     "start_time": "2023-12-25T21:31:20.666411Z"
    }
   },
   "id": "503147fdd5ad7441"
  },
  {
   "cell_type": "markdown",
   "source": [
    "## Some other methods\n",
    "\n",
    "- .unit() -> Returns the unit vector\n",
    "- .copy() -> Copies the applied vector\n",
    "- .sort(reverse=False) -> Sorts the vector\n",
    "- .toInt() -> Turns the values of the vector into integers\n",
    "- .toFloat() -> Turns the values of the vector into floats\n",
    "- .toBool() -> Turns the values of the vector into booleans\n",
    "- .toDecimal() -> Turns the values of the vector into decimal.Decimal objects"
   ],
   "metadata": {
    "collapsed": false
   },
   "id": "919ee12074ddad79"
  },
  {
   "cell_type": "code",
   "execution_count": null,
   "outputs": [],
   "source": [],
   "metadata": {
    "collapsed": false
   },
   "id": "2bf80f3b35a47fc"
  }
 ],
 "metadata": {
  "kernelspec": {
   "display_name": "Python 3",
   "language": "python",
   "name": "python3"
  },
  "language_info": {
   "codemirror_mode": {
    "name": "ipython",
    "version": 2
   },
   "file_extension": ".py",
   "mimetype": "text/x-python",
   "name": "python",
   "nbconvert_exporter": "python",
   "pygments_lexer": "ipython2",
   "version": "2.7.6"
  }
 },
 "nbformat": 4,
 "nbformat_minor": 5
}

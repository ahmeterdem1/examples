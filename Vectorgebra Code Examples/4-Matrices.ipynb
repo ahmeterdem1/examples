{
 "cells": [
  {
   "cell_type": "code",
   "execution_count": 25,
   "outputs": [],
   "source": [
    "from vectorgebra import *\n",
    "#VERSION 2.7.2"
   ],
   "metadata": {
    "collapsed": false,
    "ExecuteTime": {
     "end_time": "2023-12-26T21:34:29.516178Z",
     "start_time": "2023-12-26T21:34:29.455949Z"
    }
   },
   "id": "8f71f3955e9daa7a"
  },
  {
   "cell_type": "markdown",
   "source": [
    "# Matrices\n",
    "\n",
    "Matrices are basically lists of lists of numbers that have specific methods defined on them. In the Vectorgebra's sense matrices are a list of vectors. A vectorgebra.Matrix is generated similarly to a vectorgebra.Vector. Numbers are replaced with vectors in the constructor. These vectors must have the same dimension. Matrices also have a dimension value which is a string."
   ],
   "metadata": {
    "collapsed": false
   },
   "id": "8ddb65d6fd46b5db"
  },
  {
   "cell_type": "code",
   "execution_count": 26,
   "id": "initial_id",
   "metadata": {
    "collapsed": true,
    "ExecuteTime": {
     "end_time": "2023-12-26T21:34:29.519114Z",
     "start_time": "2023-12-26T21:34:29.464974Z"
    }
   },
   "outputs": [
    {
     "name": "stdout",
     "output_type": "stream",
     "text": [
      "My first matrix:\n",
      "[ 1, 2]\n",
      "[ 3, 4]\n",
      "\n",
      "Dimension: 2x2\n"
     ]
    }
   ],
   "source": [
    "v1 = Vector(1, 2) # Basic vector initialization\n",
    "v2 = Vector(3, 4)\n",
    "\n",
    "m = Matrix(v1, v2)\n",
    "print(f\"My first matrix:\\n{m}\\n\")\n",
    "# Keep in mind that printing matrices is a heavy operation as computational time.\n",
    "# This is because length of the strings are tidied for a better look.\n",
    "\n",
    "print(f\"Dimension: {m.dimension}\")"
   ]
  },
  {
   "cell_type": "markdown",
   "source": [
    "A matrices rows can be reached via 2 methods."
   ],
   "metadata": {
    "collapsed": false
   },
   "id": "893ed9738b708a1f"
  },
  {
   "cell_type": "code",
   "execution_count": 27,
   "outputs": [
    {
     "name": "stdout",
     "output_type": "stream",
     "text": [
      "First row via .values: [1, 2]\n",
      "First row via overload: [1, 2]\n"
     ]
    }
   ],
   "source": [
    "print(f\"First row via .values: {m.values[0]}\")\n",
    "print(f\"First row via overload: {m[0]}\")"
   ],
   "metadata": {
    "collapsed": false,
    "ExecuteTime": {
     "end_time": "2023-12-26T21:34:29.538132Z",
     "start_time": "2023-12-26T21:34:29.471467Z"
    }
   },
   "id": "84e43fe1e808bcee"
  },
  {
   "cell_type": "markdown",
   "source": [
    "Since both methods return a list, you can put another getitem method next to the above expressions to reach for a specific number in the matrix."
   ],
   "metadata": {
    "collapsed": false
   },
   "id": "c1b702118110d7c7"
  },
  {
   "cell_type": "code",
   "execution_count": 28,
   "outputs": [
    {
     "name": "stdout",
     "output_type": "stream",
     "text": [
      "1x1 indexed value of the matrix: 1\n"
     ]
    }
   ],
   "source": [
    "print(f\"1x1 indexed value of the matrix: {m[0][0]}\")"
   ],
   "metadata": {
    "collapsed": false,
    "ExecuteTime": {
     "end_time": "2023-12-26T21:34:29.539057Z",
     "start_time": "2023-12-26T21:34:29.478510Z"
    }
   },
   "id": "799121d49c197eb0"
  },
  {
   "cell_type": "markdown",
   "source": [
    "vectorgebra.Matrix.values returns a list of lists of numbers that construct the matrix. This can be used for custom operations.\n",
    "\n",
    "Matrices can be added together, subtracted from each other. You can multiply them or divide them by scalars."
   ],
   "metadata": {
    "collapsed": false
   },
   "id": "5a0981f267597ac5"
  },
  {
   "cell_type": "code",
   "execution_count": 29,
   "outputs": [
    {
     "name": "stdout",
     "output_type": "stream",
     "text": [
      "Addition:\n",
      "[ 2, 4]\n",
      "[ 6, 8]\n",
      "\n",
      "Multiplication:\n",
      "[ 0.5, 1.0]\n",
      "[ 1.5, 2.0]\n",
      "\n",
      "Subtraction:\n",
      "[ 0.5, 1.0]\n",
      "[ 1.5, 2.0]\n",
      "\n",
      "Division:\n",
      "[ 0.2, 0.4]\n",
      "[ 0.6, 0.8]\n"
     ]
    }
   ],
   "source": [
    "print(f\"Addition:\\n{m + m}\\n\")\n",
    "print(f\"Multiplication:\\n{0.5 * m}\\n\")\n",
    "print(f\"Subtraction:\\n{m - 0.5 * m}\\n\")\n",
    "print(f\"Division:\\n{m/5}\\n\")\n"
   ],
   "metadata": {
    "collapsed": false,
    "ExecuteTime": {
     "end_time": "2023-12-26T21:34:29.539664Z",
     "start_time": "2023-12-26T21:34:29.484594Z"
    }
   },
   "id": "fab05b0c04d248c3"
  },
  {
   "cell_type": "markdown",
   "source": [
    "You can modify the matrix just as like a vectorgebra.Vector. You have append and pop that works exactly the same. .pop() returns the popped row."
   ],
   "metadata": {
    "collapsed": false
   },
   "id": "f2ad831584866144"
  },
  {
   "cell_type": "code",
   "execution_count": 30,
   "outputs": [
    {
     "name": "stdout",
     "output_type": "stream",
     "text": [
      "Matrix after popping:\n",
      "[ 1, 2]\n",
      "\n",
      "After appending:\n",
      "[ 1, 2]\n",
      "[ 3, 5]\n"
     ]
    }
   ],
   "source": [
    "m.pop()\n",
    "print(f\"Matrix after popping:\\n{m}\\n\") # Basically a vector now\n",
    "m.append(Vector(3, 5))\n",
    "print(f\"After appending:\\n{m}\\n\")"
   ],
   "metadata": {
    "collapsed": false,
    "ExecuteTime": {
     "end_time": "2023-12-26T21:34:29.540234Z",
     "start_time": "2023-12-26T21:34:29.490272Z"
    }
   },
   "id": "adc69fc06d3916fb"
  },
  {
   "cell_type": "markdown",
   "source": [
    "## Matrix Generations\n",
    "\n",
    "Built-in matrix generations are pretty much the same as the vector correspondents. Methods' names are the same. Their arguments differ by a little since matrices are 2 dimensional tables of numbers."
   ],
   "metadata": {
    "collapsed": false
   },
   "id": "a50d8f405dc40fbf"
  },
  {
   "cell_type": "code",
   "execution_count": 31,
   "outputs": [
    {
     "name": "stdout",
     "output_type": "stream",
     "text": [
      "Random integer valued 2x2 matrix:\n",
      "[ -1, -1]\n",
      "[ 1 , 0 ]\n",
      "\n",
      "Random float valued 2x2 matrix:\n",
      "[ 0.3119123604282734  , -1.036719317722885  ]\n",
      "[ 0.9153187358958794  , -0.17512733583152462]\n",
      "\n",
      "Random bool valued 2x2 matrix:\n",
      "[ 0, 0]\n",
      "[ 0, 1]\n",
      "\n",
      "Random float(gaussian) valued 2x2 matrix:\n",
      "[ 0.0148438950006218 , 0.22090229838486977]\n",
      "[ -0.69558986639669  , 0.9532887924837522 ]\n"
     ]
    }
   ],
   "source": [
    "print(f\"Random integer valued 2x2 matrix:\\n{Matrix.randMint(m=2, n=2, a=-2, b=2, decimal=False)}\\n\")\n",
    "print(f\"Random float valued 2x2 matrix:\\n{Matrix.randMfloat(m=2, n=2, a=-2, b=2, decimal=False)}\\n\")\n",
    "print(f\"Random bool valued 2x2 matrix:\\n{Matrix.randMbool(m=2, n=2, decimal=False)}\\n\")\n",
    "print(f\"Random float(gaussian) valued 2x2 matrix:\\n{Matrix.randMgauss(m=2, n=2, mu=0, sigma=1, decimal=False)}\\n\")"
   ],
   "metadata": {
    "collapsed": false,
    "ExecuteTime": {
     "end_time": "2023-12-26T21:34:29.541277Z",
     "start_time": "2023-12-26T21:34:29.495996Z"
    }
   },
   "id": "b1031704b976b5ce"
  },
  {
   "cell_type": "markdown",
   "source": [
    "Returned matrix is mxn dimensional. \"a\" and \"b\" are limiters. Decimal option is present for most of the methods in this library.\n",
    "\n",
    "You also have non-random generators. (Above ones among with the vector ones uses the _random_ library in the backend) Probably the most important non-random generator is the identity matrix generator. Those generators only generate square matrices. You don't need to put m and n separately. Just a single dimension argument is enough."
   ],
   "metadata": {
    "collapsed": false
   },
   "id": "49cf6d770371c742"
  },
  {
   "cell_type": "code",
   "execution_count": 32,
   "outputs": [
    {
     "name": "stdout",
     "output_type": "stream",
     "text": [
      "2x2 Identity matrix:\n",
      "[ 1, 0]\n",
      "[ 0, 1]\n",
      "\n",
      "2x2 Zero matrix:\n",
      "[ 0, 0]\n",
      "[ 0, 0]\n",
      "\n",
      "2x2 All-one matrix:\n",
      "[ 1, 1]\n",
      "[ 1, 1]\n"
     ]
    }
   ],
   "source": [
    "print(f\"2x2 Identity matrix:\\n{Matrix.identity(dim=2, decimal=False)}\\n\")\n",
    "print(f\"2x2 Zero matrix:\\n{Matrix.zero(dim=2, decimal=False)}\\n\")\n",
    "print(f\"2x2 All-one matrix:\\n{Matrix.one(dim=2, decimal=False)}\\n\")"
   ],
   "metadata": {
    "collapsed": false,
    "ExecuteTime": {
     "end_time": "2023-12-26T21:34:29.541350Z",
     "start_time": "2023-12-26T21:34:29.499310Z"
    }
   },
   "id": "3bc824b09e31421a"
  },
  {
   "cell_type": "markdown",
   "source": [
    "Type conversion methods and mapping and filtering methods work literally the same as the vector counterparts. We will skip those.\n",
    "\n",
    "Reshaping can be done for matrices as well as vectors. Here the difference is that, reshaping of a matrix may result in either another matrix or a vector. If you put in a single value (which must be equal to m * n) as argument, then the return object is a vectorgebra.Vector. Otherwise (arg1 * arg2 must be equal to m * n) it is a vectorgebra.Matrix."
   ],
   "metadata": {
    "collapsed": false
   },
   "id": "3f2b792b958981b4"
  },
  {
   "cell_type": "code",
   "execution_count": 33,
   "outputs": [
    {
     "name": "stdout",
     "output_type": "stream",
     "text": [
      "A random integer valued 4 by 4 matrix:\n",
      "[ 3, 1, 4, 3]\n",
      "[ 0, 0, 1, 1]\n",
      "[ 5, 1, 1, 3]\n",
      "[ 2, 0, 0, 1]\n",
      "\n",
      "The same matrix after reshaping it as 2x8:\n",
      "[ 3, 1, 4, 3, 0, 0, 1, 1]\n",
      "[ 5, 1, 1, 3, 2, 0, 0, 1]\n",
      "\n",
      "The resulting vector after reshaping it to single dimensional:\n",
      "[3, 1, 4, 3, 0, 0, 1, 1, 5, 1, 1, 3, 2, 0, 0, 1]\n"
     ]
    }
   ],
   "source": [
    "m = Matrix.randMint(4, 4, 0, 5, False)\n",
    "print(f\"A random integer valued 4 by 4 matrix:\\n{m}\\n\")\n",
    "print(f\"The same matrix after reshaping it as 2x8:\\n{m.reshape(2, 8)}\\n\")\n",
    "print(f\"The resulting vector after reshaping it to single dimensional:\\n{m.reshape(16)}\\n\")"
   ],
   "metadata": {
    "collapsed": false,
    "ExecuteTime": {
     "end_time": "2023-12-26T21:34:29.541977Z",
     "start_time": "2023-12-26T21:34:29.503132Z"
    }
   },
   "id": "fae5fefb7d6926c8"
  },
  {
   "cell_type": "markdown",
   "source": [
    "Another alike operation to reshape is .submatrix(). This method literally returns a submatrix of self. See it in action below, on the same matrix as above."
   ],
   "metadata": {
    "collapsed": false
   },
   "id": "57864cf3b2e0c9dc"
  },
  {
   "cell_type": "code",
   "execution_count": 34,
   "outputs": [
    {
     "name": "stdout",
     "output_type": "stream",
     "text": [
      "The whole matrix:\n",
      "[ 3, 1, 4, 3]\n",
      "[ 0, 0, 1, 1]\n",
      "[ 5, 1, 1, 3]\n",
      "[ 2, 0, 0, 1]\n",
      "\n",
      "The chosen submatrix:\n",
      "[ 0, 0]\n",
      "[ 5, 1]\n"
     ]
    }
   ],
   "source": [
    "print(f\"The whole matrix:\\n{m}\\n\")\n",
    "print(f\"The chosen submatrix:\\n{m.submatrix(1, 3, 0, 2)}\\n\")"
   ],
   "metadata": {
    "collapsed": false,
    "ExecuteTime": {
     "end_time": "2023-12-26T21:34:29.542501Z",
     "start_time": "2023-12-26T21:34:29.507053Z"
    }
   },
   "id": "1f6fc3c813045cb3"
  },
  {
   "cell_type": "markdown",
   "source": [
    "The first 2 arguments define the range of rows. The second 2 arguments define the range of columns. The method returns a matrix x of all values that fall inside this range of rows and columns."
   ],
   "metadata": {
    "collapsed": false
   },
   "id": "abd5cd02886b37d1"
  },
  {
   "cell_type": "code",
   "execution_count": 34,
   "outputs": [],
   "source": [],
   "metadata": {
    "collapsed": false,
    "ExecuteTime": {
     "end_time": "2023-12-26T21:34:29.554415Z",
     "start_time": "2023-12-26T21:34:29.510294Z"
    }
   },
   "id": "a56208214813540b"
  }
 ],
 "metadata": {
  "kernelspec": {
   "display_name": "Python 3",
   "language": "python",
   "name": "python3"
  },
  "language_info": {
   "codemirror_mode": {
    "name": "ipython",
    "version": 2
   },
   "file_extension": ".py",
   "mimetype": "text/x-python",
   "name": "python",
   "nbconvert_exporter": "python",
   "pygments_lexer": "ipython2",
   "version": "2.7.6"
  }
 },
 "nbformat": 4,
 "nbformat_minor": 5
}

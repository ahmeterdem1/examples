{
 "cells": [
  {
   "cell_type": "code",
   "execution_count": 1,
   "id": "initial_id",
   "metadata": {
    "collapsed": true,
    "ExecuteTime": {
     "end_time": "2023-12-26T20:36:46.195910Z",
     "start_time": "2023-12-26T20:36:46.192298Z"
    }
   },
   "outputs": [],
   "source": [
    "from vectorgebra import *\n",
    "# VERSION 2.7.2"
   ]
  },
  {
   "cell_type": "markdown",
   "source": [
    "# Introduction to Vectorgebra\n",
    "\n",
    "Vectorgebra is a library that implements most of the general purpose\n",
    "mathematical tools. These include general purpose functions, trigonometric\n",
    "functions, complex numbers, infinities, etc. And this library also implements\n",
    "some more sophisticated tools like vectors, matrices, graphs. \n",
    "\n",
    "All of these implementations are interoperable. They work with each other well.\n",
    "\n",
    "Some more complicated tools consist of one main function and one or several helper\n",
    "functions. these helper functions can be used to create your own tools too.\n",
    "\n",
    "This tutorial will focus on the vectorgebra.Vector object.\n"
   ],
   "metadata": {
    "collapsed": false
   },
   "id": "dfe9adb5508b00e3"
  },
  {
   "cell_type": "markdown",
   "source": [
    "## Vectors\n",
    "\n",
    "Vectors are easy to create, lightweight arrays that have many linear algebra\n",
    "related operations defined on them. \n",
    "\n",
    "Constructing one is straightforward. Just put in as many numbers as you wish\n",
    "to the initializer."
   ],
   "metadata": {
    "collapsed": false
   },
   "id": "684a8e218fd15952"
  },
  {
   "cell_type": "code",
   "execution_count": 2,
   "outputs": [],
   "source": [
    "myFirstVector = Vector(1, 2)"
   ],
   "metadata": {
    "collapsed": false,
    "ExecuteTime": {
     "end_time": "2023-12-26T20:36:47.023730Z",
     "start_time": "2023-12-26T20:36:47.019165Z"
    }
   },
   "id": "cf8f8f19940bde11"
  },
  {
   "cell_type": "markdown",
   "source": [
    "Each vector has a dimension. This is the count of numbers that you initialized\n",
    "the vector with."
   ],
   "metadata": {
    "collapsed": false
   },
   "id": "3e6889e1e7cc2d2f"
  },
  {
   "cell_type": "code",
   "execution_count": 3,
   "outputs": [
    {
     "name": "stdout",
     "output_type": "stream",
     "text": [
      "My Vector: [1, 2]\n",
      "Dimension of my vector: 2\n"
     ]
    }
   ],
   "source": [
    "print(f\"My Vector: {myFirstVector}\")\n",
    "print(f\"Dimension of my vector: {myFirstVector.dimension}\")"
   ],
   "metadata": {
    "collapsed": false,
    "ExecuteTime": {
     "end_time": "2023-12-26T20:36:49.715137Z",
     "start_time": "2023-12-26T20:36:49.711336Z"
    }
   },
   "id": "44f5939af07bd8ed"
  },
  {
   "cell_type": "markdown",
   "source": [
    "You can increase or decrease the amount of numbers that your vector has. You can also get the indexed value of the vector."
   ],
   "metadata": {
    "collapsed": false
   },
   "id": "520a11f8a1789ec1"
  },
  {
   "cell_type": "code",
   "execution_count": 4,
   "outputs": [
    {
     "name": "stdout",
     "output_type": "stream",
     "text": [
      "After popping: [1]\n",
      "After appending: [1, 5]\n",
      "2nd element of the vector: 5\n"
     ]
    }
   ],
   "source": [
    "myFirstVector.pop()\n",
    "print(f\"After popping: {myFirstVector}\")\n",
    "myFirstVector.append(5)\n",
    "print(f\"After appending: {myFirstVector}\")\n",
    "print(f\"2nd element of the vector: {myFirstVector[1]}\")"
   ],
   "metadata": {
    "collapsed": false,
    "ExecuteTime": {
     "end_time": "2023-12-26T20:36:50.891549Z",
     "start_time": "2023-12-26T20:36:50.887671Z"
    }
   },
   "id": "b6b2e6ed42d819c4"
  },
  {
   "cell_type": "markdown",
   "source": [
    ".pop() method works exactly the same as on lists. It pops the element whose index is given. You don't always need to give this index as it is -1 by default.\n",
    "\n",
    ".append() is also the same as on lists. It appends the number you have given to the vector."
   ],
   "metadata": {
    "collapsed": false
   },
   "id": "8785c9871311ee7b"
  },
  {
   "cell_type": "markdown",
   "source": [
    "### Basic operations on Vectors\n",
    "\n",
    "You can apply vector addition, subtraction to vectorgebra.Vector objects. You can multiply or divide them by scalars."
   ],
   "metadata": {
    "collapsed": false
   },
   "id": "1c02f303e1468516"
  },
  {
   "cell_type": "code",
   "execution_count": 7,
   "outputs": [
    {
     "name": "stdout",
     "output_type": "stream",
     "text": [
      "My first vector: [1, 5]\n",
      "My second vector: [2, 10]\n",
      "After multiplication: [1.2, 6.0]\n",
      "After division: [0.6, 3.0]\n"
     ]
    }
   ],
   "source": [
    "mySecondVector = myFirstVector + myFirstVector\n",
    "print(f\"My first vector: {myFirstVector}\")\n",
    "print(f\"My second vector: {mySecondVector}\")\n",
    "\n",
    "myFirstVector = myFirstVector * 1.2\n",
    "print(f\"After multiplication: {myFirstVector}\")\n",
    "myFirstVector /= 2\n",
    "print(f\"After division: {myFirstVector}\")"
   ],
   "metadata": {
    "collapsed": false,
    "ExecuteTime": {
     "end_time": "2023-12-25T20:42:31.088787Z",
     "start_time": "2023-12-25T20:42:31.082924Z"
    }
   },
   "id": "738e0cd1f636a943"
  },
  {
   "cell_type": "markdown",
   "source": [
    "This is a basic introduction to Vectorgebra, specifically vectorgebra.Vector and how its objects work. One should keep in mind that vectorgebra.Vector objects are a basis to all other implementations in this library. Therefore it is essential to start with them to get the idea of it."
   ],
   "metadata": {
    "collapsed": false
   },
   "id": "72a18ab6e39632fc"
  }
 ],
 "metadata": {
  "kernelspec": {
   "display_name": "Python 3",
   "language": "python",
   "name": "python3"
  },
  "language_info": {
   "codemirror_mode": {
    "name": "ipython",
    "version": 2
   },
   "file_extension": ".py",
   "mimetype": "text/x-python",
   "name": "python",
   "nbconvert_exporter": "python",
   "pygments_lexer": "ipython2",
   "version": "2.7.6"
  }
 },
 "nbformat": 4,
 "nbformat_minor": 5
}
